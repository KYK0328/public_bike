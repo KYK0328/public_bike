{
 "cells": [
  {
   "cell_type": "code",
   "execution_count": 7,
   "metadata": {},
   "outputs": [],
   "source": [
    "# 경고메세지 제거\n",
    "import warnings\n",
    "warnings.filterwarnings('ignore')\n",
    "\n",
    "# 폰트 설정\n",
    "import matplotlib.pyplot as plt\n",
    "from matplotlib import font_manager\n",
    "font_fname = 'c:/windows/fonts/malgun.ttf'\n",
    "font_family = font_manager.FontProperties(fname=font_fname).get_name()\n",
    "plt.rcParams['font.family'] = font_family\n"
   ]
  },
  {
   "cell_type": "code",
   "execution_count": 8,
   "metadata": {},
   "outputs": [],
   "source": [
    "import numpy as np\n",
    "import pandas as pd\n",
    "import glob\n",
    "import matplotlib.pyplot as plt\n",
    "from matplotlib import font_manager"
   ]
  },
  {
   "cell_type": "code",
   "execution_count": 9,
   "metadata": {},
   "outputs": [
    {
     "data": {
      "text/html": [
       "<div>\n",
       "<style scoped>\n",
       "    .dataframe tbody tr th:only-of-type {\n",
       "        vertical-align: middle;\n",
       "    }\n",
       "\n",
       "    .dataframe tbody tr th {\n",
       "        vertical-align: top;\n",
       "    }\n",
       "\n",
       "    .dataframe thead th {\n",
       "        text-align: right;\n",
       "    }\n",
       "</style>\n",
       "<table border=\"1\" class=\"dataframe\">\n",
       "  <thead>\n",
       "    <tr style=\"text-align: right;\">\n",
       "      <th></th>\n",
       "      <th>시도</th>\n",
       "      <th>시군구</th>\n",
       "      <th>시가화면적(㎢)</th>\n",
       "      <th>정류장수</th>\n",
       "      <th>공급도</th>\n",
       "    </tr>\n",
       "  </thead>\n",
       "  <tbody>\n",
       "    <tr>\n",
       "      <th>0</th>\n",
       "      <td>경기도</td>\n",
       "      <td>수원시</td>\n",
       "      <td>223.28</td>\n",
       "      <td>1397</td>\n",
       "      <td>6.3</td>\n",
       "    </tr>\n",
       "    <tr>\n",
       "      <th>1</th>\n",
       "      <td>경기도</td>\n",
       "      <td>성남시</td>\n",
       "      <td>114.57</td>\n",
       "      <td>1557</td>\n",
       "      <td>13.6</td>\n",
       "    </tr>\n",
       "    <tr>\n",
       "      <th>2</th>\n",
       "      <td>경기도</td>\n",
       "      <td>의정부시</td>\n",
       "      <td>18.44</td>\n",
       "      <td>817</td>\n",
       "      <td>44.3</td>\n",
       "    </tr>\n",
       "    <tr>\n",
       "      <th>3</th>\n",
       "      <td>경기도</td>\n",
       "      <td>안양시</td>\n",
       "      <td>41.18</td>\n",
       "      <td>826</td>\n",
       "      <td>20.1</td>\n",
       "    </tr>\n",
       "    <tr>\n",
       "      <th>4</th>\n",
       "      <td>경기도</td>\n",
       "      <td>부천시</td>\n",
       "      <td>34.52</td>\n",
       "      <td>1352</td>\n",
       "      <td>39.2</td>\n",
       "    </tr>\n",
       "  </tbody>\n",
       "</table>\n",
       "</div>"
      ],
      "text/plain": [
       "    시도   시군구  시가화면적(㎢)  정류장수   공급도\n",
       "0  경기도  수원시     223.28  1397   6.3\n",
       "1  경기도  성남시     114.57  1557  13.6\n",
       "2  경기도  의정부시     18.44   817  44.3\n",
       "3  경기도  안양시      41.18   826  20.1\n",
       "4  경기도   부천시     34.52  1352  39.2"
      ]
     },
     "execution_count": 9,
     "metadata": {},
     "output_type": "execute_result"
    }
   ],
   "source": [
    "df = pd.read_csv('경기도 시별 대중교통 이용자수 분석 데이터.csv',engine='python', encoding = 'euc-kr')\n",
    "df.head()"
   ]
  },
  {
   "cell_type": "code",
   "execution_count": 10,
   "metadata": {},
   "outputs": [
    {
     "data": {
      "text/plain": [
       "(56, 5)"
      ]
     },
     "execution_count": 10,
     "metadata": {},
     "output_type": "execute_result"
    }
   ],
   "source": [
    "df.shape"
   ]
  },
  {
   "cell_type": "code",
   "execution_count": 11,
   "metadata": {},
   "outputs": [
    {
     "data": {
      "text/plain": [
       "시도          0\n",
       "시군구         0\n",
       "시가화면적(㎢)    0\n",
       "정류장수        0\n",
       "공급도         0\n",
       "dtype: int64"
      ]
     },
     "execution_count": 11,
     "metadata": {},
     "output_type": "execute_result"
    }
   ],
   "source": [
    "df.isnull().sum()"
   ]
  },
  {
   "cell_type": "code",
   "execution_count": 12,
   "metadata": {},
   "outputs": [
    {
     "data": {
      "text/plain": [
       "46.121428571428574"
      ]
     },
     "execution_count": 12,
     "metadata": {},
     "output_type": "execute_result"
    }
   ],
   "source": [
    "df['공급도'].mean()"
   ]
  },
  {
   "cell_type": "code",
   "execution_count": 13,
   "metadata": {},
   "outputs": [
    {
     "data": {
      "text/plain": [
       "count     56.000000\n",
       "mean      46.121429\n",
       "std       31.670208\n",
       "min        6.300000\n",
       "25%       32.250000\n",
       "50%       40.350000\n",
       "75%       48.775000\n",
       "max      193.400000\n",
       "Name: 공급도, dtype: float64"
      ]
     },
     "execution_count": 13,
     "metadata": {},
     "output_type": "execute_result"
    }
   ],
   "source": [
    "df['공급도'].describe()"
   ]
  },
  {
   "cell_type": "markdown",
   "metadata": {},
   "source": [
    "# 서울"
   ]
  },
  {
   "cell_type": "code",
   "execution_count": 16,
   "metadata": {},
   "outputs": [
    {
     "data": {
      "text/plain": [
       "시가화면적(㎢)     14.872\n",
       "정류장수        599.840\n",
       "공급도          40.644\n",
       "dtype: float64"
      ]
     },
     "execution_count": 16,
     "metadata": {},
     "output_type": "execute_result"
    }
   ],
   "source": [
    "# 시가화면적 : 용도지역 중 주거지역, 상업지역 및 공업지역 면적의 합\n",
    "df_seoul = df[df['시도'].str.contains('서울')]\n",
    "df_seoul.mean()"
   ]
  },
  {
   "cell_type": "code",
   "execution_count": 22,
   "metadata": {},
   "outputs": [
    {
     "data": {
      "text/html": [
       "<div>\n",
       "<style scoped>\n",
       "    .dataframe tbody tr th:only-of-type {\n",
       "        vertical-align: middle;\n",
       "    }\n",
       "\n",
       "    .dataframe tbody tr th {\n",
       "        vertical-align: top;\n",
       "    }\n",
       "\n",
       "    .dataframe thead th {\n",
       "        text-align: right;\n",
       "    }\n",
       "</style>\n",
       "<table border=\"1\" class=\"dataframe\">\n",
       "  <thead>\n",
       "    <tr style=\"text-align: right;\">\n",
       "      <th></th>\n",
       "      <th>시가화면적(㎢)</th>\n",
       "      <th>정류장수</th>\n",
       "      <th>공급도</th>\n",
       "    </tr>\n",
       "  </thead>\n",
       "  <tbody>\n",
       "    <tr>\n",
       "      <th>count</th>\n",
       "      <td>25.000000</td>\n",
       "      <td>25.000000</td>\n",
       "      <td>25.000000</td>\n",
       "    </tr>\n",
       "    <tr>\n",
       "      <th>mean</th>\n",
       "      <td>14.872000</td>\n",
       "      <td>599.840000</td>\n",
       "      <td>40.644000</td>\n",
       "    </tr>\n",
       "    <tr>\n",
       "      <th>std</th>\n",
       "      <td>3.990805</td>\n",
       "      <td>163.710028</td>\n",
       "      <td>7.095426</td>\n",
       "    </tr>\n",
       "    <tr>\n",
       "      <th>min</th>\n",
       "      <td>9.950000</td>\n",
       "      <td>264.000000</td>\n",
       "      <td>26.500000</td>\n",
       "    </tr>\n",
       "    <tr>\n",
       "      <th>25%</th>\n",
       "      <td>12.470000</td>\n",
       "      <td>470.000000</td>\n",
       "      <td>35.900000</td>\n",
       "    </tr>\n",
       "    <tr>\n",
       "      <th>50%</th>\n",
       "      <td>14.140000</td>\n",
       "      <td>536.000000</td>\n",
       "      <td>41.300000</td>\n",
       "    </tr>\n",
       "    <tr>\n",
       "      <th>75%</th>\n",
       "      <td>15.720000</td>\n",
       "      <td>703.000000</td>\n",
       "      <td>44.900000</td>\n",
       "    </tr>\n",
       "    <tr>\n",
       "      <th>max</th>\n",
       "      <td>25.870000</td>\n",
       "      <td>907.000000</td>\n",
       "      <td>53.200000</td>\n",
       "    </tr>\n",
       "  </tbody>\n",
       "</table>\n",
       "</div>"
      ],
      "text/plain": [
       "        시가화면적(㎢)        정류장수        공급도\n",
       "count  25.000000   25.000000  25.000000\n",
       "mean   14.872000  599.840000  40.644000\n",
       "std     3.990805  163.710028   7.095426\n",
       "min     9.950000  264.000000  26.500000\n",
       "25%    12.470000  470.000000  35.900000\n",
       "50%    14.140000  536.000000  41.300000\n",
       "75%    15.720000  703.000000  44.900000\n",
       "max    25.870000  907.000000  53.200000"
      ]
     },
     "execution_count": 22,
     "metadata": {},
     "output_type": "execute_result"
    }
   ],
   "source": [
    "df_seoul.describe()"
   ]
  },
  {
   "cell_type": "code",
   "execution_count": 23,
   "metadata": {},
   "outputs": [
    {
     "data": {
      "text/plain": [
       "<matplotlib.axes._subplots.AxesSubplot at 0x1f3ff3396a0>"
      ]
     },
     "execution_count": 23,
     "metadata": {},
     "output_type": "execute_result"
    },
    {
     "data": {
      "image/png": "[encoded data removed]",
      "text/plain": [
       "<Figure size 432x288 with 1 Axes>"
      ]
     },
     "metadata": {},
     "output_type": "display_data"
    }
   ],
   "source": [
    "df_seoul['정류장수'].plot(kind=\"box\")"
   ]
  },
  {
   "cell_type": "code",
   "execution_count": 24,
   "metadata": {},
   "outputs": [
    {
     "data": {
      "text/html": [
       "<div>\n",
       "<style scoped>\n",
       "    .dataframe tbody tr th:only-of-type {\n",
       "        vertical-align: middle;\n",
       "    }\n",
       "\n",
       "    .dataframe tbody tr th {\n",
       "        vertical-align: top;\n",
       "    }\n",
       "\n",
       "    .dataframe thead th {\n",
       "        text-align: right;\n",
       "    }\n",
       "</style>\n",
       "<table border=\"1\" class=\"dataframe\">\n",
       "  <thead>\n",
       "    <tr style=\"text-align: right;\">\n",
       "      <th></th>\n",
       "      <th>시도</th>\n",
       "      <th>시군구</th>\n",
       "      <th>시가화면적(㎢)</th>\n",
       "      <th>정류장수</th>\n",
       "      <th>공급도</th>\n",
       "    </tr>\n",
       "  </thead>\n",
       "  <tbody>\n",
       "    <tr>\n",
       "      <th>52</th>\n",
       "      <td>서울특별시</td>\n",
       "      <td>서초구</td>\n",
       "      <td>20.21</td>\n",
       "      <td>907</td>\n",
       "      <td>44.9</td>\n",
       "    </tr>\n",
       "    <tr>\n",
       "      <th>53</th>\n",
       "      <td>서울특별시</td>\n",
       "      <td>강남구</td>\n",
       "      <td>25.87</td>\n",
       "      <td>904</td>\n",
       "      <td>34.9</td>\n",
       "    </tr>\n",
       "    <tr>\n",
       "      <th>46</th>\n",
       "      <td>서울특별시</td>\n",
       "      <td>강서구</td>\n",
       "      <td>18.96</td>\n",
       "      <td>830</td>\n",
       "      <td>43.8</td>\n",
       "    </tr>\n",
       "    <tr>\n",
       "      <th>41</th>\n",
       "      <td>서울특별시</td>\n",
       "      <td>노원구</td>\n",
       "      <td>14.52</td>\n",
       "      <td>773</td>\n",
       "      <td>53.2</td>\n",
       "    </tr>\n",
       "    <tr>\n",
       "      <th>44</th>\n",
       "      <td>서울특별시</td>\n",
       "      <td>마포구</td>\n",
       "      <td>14.32</td>\n",
       "      <td>729</td>\n",
       "      <td>50.9</td>\n",
       "    </tr>\n",
       "    <tr>\n",
       "      <th>47</th>\n",
       "      <td>서울특별시</td>\n",
       "      <td>구로구</td>\n",
       "      <td>14.98</td>\n",
       "      <td>728</td>\n",
       "      <td>48.6</td>\n",
       "    </tr>\n",
       "    <tr>\n",
       "      <th>49</th>\n",
       "      <td>서울특별시</td>\n",
       "      <td>영등포구</td>\n",
       "      <td>15.65</td>\n",
       "      <td>703</td>\n",
       "      <td>44.9</td>\n",
       "    </tr>\n",
       "    <tr>\n",
       "      <th>38</th>\n",
       "      <td>서울특별시</td>\n",
       "      <td>성북구</td>\n",
       "      <td>18.19</td>\n",
       "      <td>700</td>\n",
       "      <td>38.5</td>\n",
       "    </tr>\n",
       "    <tr>\n",
       "      <th>51</th>\n",
       "      <td>서울특별시</td>\n",
       "      <td>관악구</td>\n",
       "      <td>15.72</td>\n",
       "      <td>695</td>\n",
       "      <td>44.2</td>\n",
       "    </tr>\n",
       "    <tr>\n",
       "      <th>42</th>\n",
       "      <td>서울특별시</td>\n",
       "      <td>은평구</td>\n",
       "      <td>15.89</td>\n",
       "      <td>660</td>\n",
       "      <td>41.5</td>\n",
       "    </tr>\n",
       "  </tbody>\n",
       "</table>\n",
       "</div>"
      ],
      "text/plain": [
       "       시도   시군구  시가화면적(㎢)  정류장수   공급도\n",
       "52  서울특별시   서초구     20.21   907  44.9\n",
       "53  서울특별시   강남구     25.87   904  34.9\n",
       "46  서울특별시   강서구     18.96   830  43.8\n",
       "41  서울특별시   노원구     14.52   773  53.2\n",
       "44  서울특별시   마포구     14.32   729  50.9\n",
       "47  서울특별시   구로구     14.98   728  48.6\n",
       "49  서울특별시  영등포구     15.65   703  44.9\n",
       "38  서울특별시   성북구     18.19   700  38.5\n",
       "51  서울특별시   관악구     15.72   695  44.2\n",
       "42  서울특별시   은평구     15.89   660  41.5"
      ]
     },
     "execution_count": 24,
     "metadata": {},
     "output_type": "execute_result"
    }
   ],
   "source": [
    "# (서울)정류장수 순위\n",
    "df_seoul.sort_values(by='정류장수', ascending = False).head(10)"
   ]
  },
  {
   "cell_type": "code",
   "execution_count": 25,
   "metadata": {},
   "outputs": [
    {
     "data": {
      "text/html": [
       "<div>\n",
       "<style scoped>\n",
       "    .dataframe tbody tr th:only-of-type {\n",
       "        vertical-align: middle;\n",
       "    }\n",
       "\n",
       "    .dataframe tbody tr th {\n",
       "        vertical-align: top;\n",
       "    }\n",
       "\n",
       "    .dataframe thead th {\n",
       "        text-align: right;\n",
       "    }\n",
       "</style>\n",
       "<table border=\"1\" class=\"dataframe\">\n",
       "  <thead>\n",
       "    <tr style=\"text-align: right;\">\n",
       "      <th></th>\n",
       "      <th>시도</th>\n",
       "      <th>시군구</th>\n",
       "      <th>시가화면적(㎢)</th>\n",
       "      <th>정류장수</th>\n",
       "      <th>공급도</th>\n",
       "    </tr>\n",
       "  </thead>\n",
       "  <tbody>\n",
       "    <tr>\n",
       "      <th>41</th>\n",
       "      <td>서울특별시</td>\n",
       "      <td>노원구</td>\n",
       "      <td>14.52</td>\n",
       "      <td>773</td>\n",
       "      <td>53.2</td>\n",
       "    </tr>\n",
       "    <tr>\n",
       "      <th>44</th>\n",
       "      <td>서울특별시</td>\n",
       "      <td>마포구</td>\n",
       "      <td>14.32</td>\n",
       "      <td>729</td>\n",
       "      <td>50.9</td>\n",
       "    </tr>\n",
       "    <tr>\n",
       "      <th>40</th>\n",
       "      <td>서울특별시</td>\n",
       "      <td>도봉구</td>\n",
       "      <td>10.45</td>\n",
       "      <td>529</td>\n",
       "      <td>50.6</td>\n",
       "    </tr>\n",
       "    <tr>\n",
       "      <th>47</th>\n",
       "      <td>서울특별시</td>\n",
       "      <td>구로구</td>\n",
       "      <td>14.98</td>\n",
       "      <td>728</td>\n",
       "      <td>48.6</td>\n",
       "    </tr>\n",
       "    <tr>\n",
       "      <th>39</th>\n",
       "      <td>서울특별시</td>\n",
       "      <td>강북구</td>\n",
       "      <td>11.17</td>\n",
       "      <td>531</td>\n",
       "      <td>47.5</td>\n",
       "    </tr>\n",
       "    <tr>\n",
       "      <th>48</th>\n",
       "      <td>서울특별시</td>\n",
       "      <td>금천구</td>\n",
       "      <td>10.12</td>\n",
       "      <td>456</td>\n",
       "      <td>45.1</td>\n",
       "    </tr>\n",
       "    <tr>\n",
       "      <th>52</th>\n",
       "      <td>서울특별시</td>\n",
       "      <td>서초구</td>\n",
       "      <td>20.21</td>\n",
       "      <td>907</td>\n",
       "      <td>44.9</td>\n",
       "    </tr>\n",
       "    <tr>\n",
       "      <th>49</th>\n",
       "      <td>서울특별시</td>\n",
       "      <td>영등포구</td>\n",
       "      <td>15.65</td>\n",
       "      <td>703</td>\n",
       "      <td>44.9</td>\n",
       "    </tr>\n",
       "    <tr>\n",
       "      <th>51</th>\n",
       "      <td>서울특별시</td>\n",
       "      <td>관악구</td>\n",
       "      <td>15.72</td>\n",
       "      <td>695</td>\n",
       "      <td>44.2</td>\n",
       "    </tr>\n",
       "    <tr>\n",
       "      <th>46</th>\n",
       "      <td>서울특별시</td>\n",
       "      <td>강서구</td>\n",
       "      <td>18.96</td>\n",
       "      <td>830</td>\n",
       "      <td>43.8</td>\n",
       "    </tr>\n",
       "  </tbody>\n",
       "</table>\n",
       "</div>"
      ],
      "text/plain": [
       "       시도   시군구  시가화면적(㎢)  정류장수   공급도\n",
       "41  서울특별시   노원구     14.52   773  53.2\n",
       "44  서울특별시   마포구     14.32   729  50.9\n",
       "40  서울특별시   도봉구     10.45   529  50.6\n",
       "47  서울특별시   구로구     14.98   728  48.6\n",
       "39  서울특별시   강북구     11.17   531  47.5\n",
       "48  서울특별시   금천구     10.12   456  45.1\n",
       "52  서울특별시   서초구     20.21   907  44.9\n",
       "49  서울특별시  영등포구     15.65   703  44.9\n",
       "51  서울특별시   관악구     15.72   695  44.2\n",
       "46  서울특별시   강서구     18.96   830  43.8"
      ]
     },
     "execution_count": 25,
     "metadata": {},
     "output_type": "execute_result"
    }
   ],
   "source": [
    "# 공급도 = (정류장 수)/ (시가화면적) *시가화면적: 용도지역 중 주거지역, 상업지역 및 공업지역 면적의 합\n",
    "# 버스 공급도가 높을수록 교통 접근성이 좋은거임 \n",
    "# (서울)공급도 순위\n",
    "df_seoul.sort_values(by='공급도', ascending = False).head(10)"
   ]
  },
  {
   "cell_type": "markdown",
   "metadata": {},
   "source": [
    "# 경기도"
   ]
  },
  {
   "cell_type": "code",
   "execution_count": 26,
   "metadata": {},
   "outputs": [
    {
     "data": {
      "text/plain": [
       "시가화면적(㎢)      42.337097\n",
       "정류장수        1053.096774\n",
       "공급도           50.538710\n",
       "dtype: float64"
      ]
     },
     "execution_count": 26,
     "metadata": {},
     "output_type": "execute_result"
    }
   ],
   "source": [
    "df_gg = df[df['시도'].str.contains('경기')]\n",
    "df_gg.mean()"
   ]
  },
  {
   "cell_type": "code",
   "execution_count": 27,
   "metadata": {},
   "outputs": [
    {
     "data": {
      "text/html": [
       "<div>\n",
       "<style scoped>\n",
       "    .dataframe tbody tr th:only-of-type {\n",
       "        vertical-align: middle;\n",
       "    }\n",
       "\n",
       "    .dataframe tbody tr th {\n",
       "        vertical-align: top;\n",
       "    }\n",
       "\n",
       "    .dataframe thead th {\n",
       "        text-align: right;\n",
       "    }\n",
       "</style>\n",
       "<table border=\"1\" class=\"dataframe\">\n",
       "  <thead>\n",
       "    <tr style=\"text-align: right;\">\n",
       "      <th></th>\n",
       "      <th>시도</th>\n",
       "      <th>시군구</th>\n",
       "      <th>시가화면적(㎢)</th>\n",
       "      <th>정류장수</th>\n",
       "      <th>공급도</th>\n",
       "    </tr>\n",
       "  </thead>\n",
       "  <tbody>\n",
       "    <tr>\n",
       "      <th>0</th>\n",
       "      <td>경기도</td>\n",
       "      <td>수원시</td>\n",
       "      <td>223.28</td>\n",
       "      <td>1397</td>\n",
       "      <td>6.3</td>\n",
       "    </tr>\n",
       "    <tr>\n",
       "      <th>1</th>\n",
       "      <td>경기도</td>\n",
       "      <td>성남시</td>\n",
       "      <td>114.57</td>\n",
       "      <td>1557</td>\n",
       "      <td>13.6</td>\n",
       "    </tr>\n",
       "    <tr>\n",
       "      <th>2</th>\n",
       "      <td>경기도</td>\n",
       "      <td>의정부시</td>\n",
       "      <td>18.44</td>\n",
       "      <td>817</td>\n",
       "      <td>44.3</td>\n",
       "    </tr>\n",
       "    <tr>\n",
       "      <th>3</th>\n",
       "      <td>경기도</td>\n",
       "      <td>안양시</td>\n",
       "      <td>41.18</td>\n",
       "      <td>826</td>\n",
       "      <td>20.1</td>\n",
       "    </tr>\n",
       "    <tr>\n",
       "      <th>4</th>\n",
       "      <td>경기도</td>\n",
       "      <td>부천시</td>\n",
       "      <td>34.52</td>\n",
       "      <td>1352</td>\n",
       "      <td>39.2</td>\n",
       "    </tr>\n",
       "  </tbody>\n",
       "</table>\n",
       "</div>"
      ],
      "text/plain": [
       "    시도   시군구  시가화면적(㎢)  정류장수   공급도\n",
       "0  경기도  수원시     223.28  1397   6.3\n",
       "1  경기도  성남시     114.57  1557  13.6\n",
       "2  경기도  의정부시     18.44   817  44.3\n",
       "3  경기도  안양시      41.18   826  20.1\n",
       "4  경기도   부천시     34.52  1352  39.2"
      ]
     },
     "execution_count": 27,
     "metadata": {},
     "output_type": "execute_result"
    }
   ],
   "source": [
    "df_gg.head(5)"
   ]
  },
  {
   "cell_type": "code",
   "execution_count": 28,
   "metadata": {},
   "outputs": [
    {
     "data": {
      "text/html": [
       "<div>\n",
       "<style scoped>\n",
       "    .dataframe tbody tr th:only-of-type {\n",
       "        vertical-align: middle;\n",
       "    }\n",
       "\n",
       "    .dataframe tbody tr th {\n",
       "        vertical-align: top;\n",
       "    }\n",
       "\n",
       "    .dataframe thead th {\n",
       "        text-align: right;\n",
       "    }\n",
       "</style>\n",
       "<table border=\"1\" class=\"dataframe\">\n",
       "  <thead>\n",
       "    <tr style=\"text-align: right;\">\n",
       "      <th></th>\n",
       "      <th>시도</th>\n",
       "      <th>시군구</th>\n",
       "      <th>시가화면적(㎢)</th>\n",
       "      <th>정류장수</th>\n",
       "      <th>공급도</th>\n",
       "    </tr>\n",
       "  </thead>\n",
       "  <tbody>\n",
       "    <tr>\n",
       "      <th>30</th>\n",
       "      <td>경기도</td>\n",
       "      <td>양평군</td>\n",
       "      <td>3.66</td>\n",
       "      <td>708</td>\n",
       "      <td>193.4</td>\n",
       "    </tr>\n",
       "    <tr>\n",
       "      <th>27</th>\n",
       "      <td>경기도</td>\n",
       "      <td>여주시</td>\n",
       "      <td>4.36</td>\n",
       "      <td>731</td>\n",
       "      <td>167.7</td>\n",
       "    </tr>\n",
       "    <tr>\n",
       "      <th>29</th>\n",
       "      <td>경기도</td>\n",
       "      <td>가평군</td>\n",
       "      <td>6.44</td>\n",
       "      <td>658</td>\n",
       "      <td>102.2</td>\n",
       "    </tr>\n",
       "    <tr>\n",
       "      <th>24</th>\n",
       "      <td>경기도</td>\n",
       "      <td>광주시</td>\n",
       "      <td>12.17</td>\n",
       "      <td>1119</td>\n",
       "      <td>91.9</td>\n",
       "    </tr>\n",
       "    <tr>\n",
       "      <th>20</th>\n",
       "      <td>경기도</td>\n",
       "      <td>이천시</td>\n",
       "      <td>10.37</td>\n",
       "      <td>888</td>\n",
       "      <td>85.6</td>\n",
       "    </tr>\n",
       "    <tr>\n",
       "      <th>26</th>\n",
       "      <td>경기도</td>\n",
       "      <td>포천시</td>\n",
       "      <td>11.88</td>\n",
       "      <td>910</td>\n",
       "      <td>76.6</td>\n",
       "    </tr>\n",
       "    <tr>\n",
       "      <th>28</th>\n",
       "      <td>경기도</td>\n",
       "      <td>연천군</td>\n",
       "      <td>6.02</td>\n",
       "      <td>386</td>\n",
       "      <td>64.1</td>\n",
       "    </tr>\n",
       "    <tr>\n",
       "      <th>19</th>\n",
       "      <td>경기도</td>\n",
       "      <td>파주시</td>\n",
       "      <td>32.87</td>\n",
       "      <td>1819</td>\n",
       "      <td>55.3</td>\n",
       "    </tr>\n",
       "    <tr>\n",
       "      <th>21</th>\n",
       "      <td>경기도</td>\n",
       "      <td>안성시</td>\n",
       "      <td>17.49</td>\n",
       "      <td>890</td>\n",
       "      <td>50.9</td>\n",
       "    </tr>\n",
       "    <tr>\n",
       "      <th>5</th>\n",
       "      <td>경기도</td>\n",
       "      <td>광명시</td>\n",
       "      <td>11.79</td>\n",
       "      <td>599</td>\n",
       "      <td>50.8</td>\n",
       "    </tr>\n",
       "  </tbody>\n",
       "</table>\n",
       "</div>"
      ],
      "text/plain": [
       "     시도  시군구  시가화면적(㎢)  정류장수    공급도\n",
       "30  경기도  양평군      3.66   708  193.4\n",
       "27  경기도  여주시      4.36   731  167.7\n",
       "29  경기도  가평군      6.44   658  102.2\n",
       "24  경기도  광주시     12.17  1119   91.9\n",
       "20  경기도  이천시     10.37   888   85.6\n",
       "26  경기도  포천시     11.88   910   76.6\n",
       "28  경기도  연천군      6.02   386   64.1\n",
       "19  경기도  파주시     32.87  1819   55.3\n",
       "21  경기도  안성시     17.49   890   50.9\n",
       "5   경기도  광명시     11.79   599   50.8"
      ]
     },
     "execution_count": 28,
     "metadata": {},
     "output_type": "execute_result"
    }
   ],
   "source": [
    "# 공급도 = (정류장 수)/ (시가화면적)  *시가화면적: 용도지역 중 주거지역, 상업지역 및 공업지역 면적의 합\n",
    "# (경기)공급도 순위\n",
    "# 버스 공급도가 높을수록 교통 접근성이 좋은거임 \n",
    "df_gg.sort_values(by='공급도', ascending = False).head(10)\n",
    "\n",
    "# 경기도의 면적 순위 1위 양평 (877.76㎢)> 2위 가평(843.69)> 3위 포천(826.96)> 4위 화성(698.19) > 5위 연천(676.32)\n",
    "# 의문... 공급도 순위가 높은 지역은 철도가 활성화되지 않은 지역으로\n",
    "# 모든 대중교통편이 버스이기때문에 시가화면적에 비해 정류장수가 많은 것으로 추측...\n",
    "\n",
    "# 이 데이터를 어디까지만 사용할지 의문..."
   ]
  },
  {
   "cell_type": "code",
   "execution_count": 29,
   "metadata": {},
   "outputs": [
    {
     "data": {
      "text/html": [
       "<div>\n",
       "<style scoped>\n",
       "    .dataframe tbody tr th:only-of-type {\n",
       "        vertical-align: middle;\n",
       "    }\n",
       "\n",
       "    .dataframe tbody tr th {\n",
       "        vertical-align: top;\n",
       "    }\n",
       "\n",
       "    .dataframe thead th {\n",
       "        text-align: right;\n",
       "    }\n",
       "</style>\n",
       "<table border=\"1\" class=\"dataframe\">\n",
       "  <thead>\n",
       "    <tr style=\"text-align: right;\">\n",
       "      <th></th>\n",
       "      <th>시도</th>\n",
       "      <th>시군구</th>\n",
       "      <th>시가화면적(㎢)</th>\n",
       "      <th>정류장수</th>\n",
       "      <th>공급도</th>\n",
       "    </tr>\n",
       "  </thead>\n",
       "  <tbody>\n",
       "    <tr>\n",
       "      <th>9</th>\n",
       "      <td>경기도</td>\n",
       "      <td>고양시</td>\n",
       "      <td>149.73</td>\n",
       "      <td>2501</td>\n",
       "      <td>16.7</td>\n",
       "    </tr>\n",
       "    <tr>\n",
       "      <th>23</th>\n",
       "      <td>경기도</td>\n",
       "      <td>화성시</td>\n",
       "      <td>74.32</td>\n",
       "      <td>2431</td>\n",
       "      <td>32.7</td>\n",
       "    </tr>\n",
       "    <tr>\n",
       "      <th>18</th>\n",
       "      <td>경기도</td>\n",
       "      <td>용인시</td>\n",
       "      <td>153.72</td>\n",
       "      <td>2395</td>\n",
       "      <td>15.6</td>\n",
       "    </tr>\n",
       "    <tr>\n",
       "      <th>19</th>\n",
       "      <td>경기도</td>\n",
       "      <td>파주시</td>\n",
       "      <td>32.87</td>\n",
       "      <td>1819</td>\n",
       "      <td>55.3</td>\n",
       "    </tr>\n",
       "    <tr>\n",
       "      <th>12</th>\n",
       "      <td>경기도</td>\n",
       "      <td>남양주시</td>\n",
       "      <td>48.25</td>\n",
       "      <td>1773</td>\n",
       "      <td>36.7</td>\n",
       "    </tr>\n",
       "    <tr>\n",
       "      <th>6</th>\n",
       "      <td>경기도</td>\n",
       "      <td>평택시</td>\n",
       "      <td>76.88</td>\n",
       "      <td>1625</td>\n",
       "      <td>21.1</td>\n",
       "    </tr>\n",
       "    <tr>\n",
       "      <th>1</th>\n",
       "      <td>경기도</td>\n",
       "      <td>성남시</td>\n",
       "      <td>114.57</td>\n",
       "      <td>1557</td>\n",
       "      <td>13.6</td>\n",
       "    </tr>\n",
       "    <tr>\n",
       "      <th>0</th>\n",
       "      <td>경기도</td>\n",
       "      <td>수원시</td>\n",
       "      <td>223.28</td>\n",
       "      <td>1397</td>\n",
       "      <td>6.3</td>\n",
       "    </tr>\n",
       "    <tr>\n",
       "      <th>4</th>\n",
       "      <td>경기도</td>\n",
       "      <td>부천시</td>\n",
       "      <td>34.52</td>\n",
       "      <td>1352</td>\n",
       "      <td>39.2</td>\n",
       "    </tr>\n",
       "    <tr>\n",
       "      <th>25</th>\n",
       "      <td>경기도</td>\n",
       "      <td>양주시</td>\n",
       "      <td>31.45</td>\n",
       "      <td>1238</td>\n",
       "      <td>39.4</td>\n",
       "    </tr>\n",
       "  </tbody>\n",
       "</table>\n",
       "</div>"
      ],
      "text/plain": [
       "     시도   시군구  시가화면적(㎢)  정류장수   공급도\n",
       "9   경기도  고양시     149.73  2501  16.7\n",
       "23  경기도   화성시     74.32  2431  32.7\n",
       "18  경기도  용인시     153.72  2395  15.6\n",
       "19  경기도   파주시     32.87  1819  55.3\n",
       "12  경기도  남양주시     48.25  1773  36.7\n",
       "6   경기도   평택시     76.88  1625  21.1\n",
       "1   경기도  성남시     114.57  1557  13.6\n",
       "0   경기도  수원시     223.28  1397   6.3\n",
       "4   경기도   부천시     34.52  1352  39.2\n",
       "25  경기도   양주시     31.45  1238  39.4"
      ]
     },
     "execution_count": 29,
     "metadata": {},
     "output_type": "execute_result"
    }
   ],
   "source": [
    "df_gg.sort_values(by='정류장수', ascending = False).head(10)"
   ]
  },
  {
   "cell_type": "code",
   "execution_count": 30,
   "metadata": {},
   "outputs": [
    {
     "data": {
      "text/html": [
       "<div>\n",
       "<style scoped>\n",
       "    .dataframe tbody tr th:only-of-type {\n",
       "        vertical-align: middle;\n",
       "    }\n",
       "\n",
       "    .dataframe tbody tr th {\n",
       "        vertical-align: top;\n",
       "    }\n",
       "\n",
       "    .dataframe thead th {\n",
       "        text-align: right;\n",
       "    }\n",
       "</style>\n",
       "<table border=\"1\" class=\"dataframe\">\n",
       "  <thead>\n",
       "    <tr style=\"text-align: right;\">\n",
       "      <th></th>\n",
       "      <th>시도</th>\n",
       "      <th>시군구</th>\n",
       "      <th>시가화면적(㎢)</th>\n",
       "      <th>정류장수</th>\n",
       "      <th>공급도</th>\n",
       "    </tr>\n",
       "  </thead>\n",
       "  <tbody>\n",
       "    <tr>\n",
       "      <th>0</th>\n",
       "      <td>경기도</td>\n",
       "      <td>수원시</td>\n",
       "      <td>223.28</td>\n",
       "      <td>1397</td>\n",
       "      <td>6.3</td>\n",
       "    </tr>\n",
       "    <tr>\n",
       "      <th>8</th>\n",
       "      <td>경기도</td>\n",
       "      <td>안산시</td>\n",
       "      <td>89.12</td>\n",
       "      <td>1155</td>\n",
       "      <td>13.0</td>\n",
       "    </tr>\n",
       "    <tr>\n",
       "      <th>1</th>\n",
       "      <td>경기도</td>\n",
       "      <td>성남시</td>\n",
       "      <td>114.57</td>\n",
       "      <td>1557</td>\n",
       "      <td>13.6</td>\n",
       "    </tr>\n",
       "    <tr>\n",
       "      <th>18</th>\n",
       "      <td>경기도</td>\n",
       "      <td>용인시</td>\n",
       "      <td>153.72</td>\n",
       "      <td>2395</td>\n",
       "      <td>15.6</td>\n",
       "    </tr>\n",
       "    <tr>\n",
       "      <th>9</th>\n",
       "      <td>경기도</td>\n",
       "      <td>고양시</td>\n",
       "      <td>149.73</td>\n",
       "      <td>2501</td>\n",
       "      <td>16.7</td>\n",
       "    </tr>\n",
       "    <tr>\n",
       "      <th>3</th>\n",
       "      <td>경기도</td>\n",
       "      <td>안양시</td>\n",
       "      <td>41.18</td>\n",
       "      <td>826</td>\n",
       "      <td>20.1</td>\n",
       "    </tr>\n",
       "    <tr>\n",
       "      <th>6</th>\n",
       "      <td>경기도</td>\n",
       "      <td>평택시</td>\n",
       "      <td>76.88</td>\n",
       "      <td>1625</td>\n",
       "      <td>21.1</td>\n",
       "    </tr>\n",
       "    <tr>\n",
       "      <th>13</th>\n",
       "      <td>경기도</td>\n",
       "      <td>오산시</td>\n",
       "      <td>14.84</td>\n",
       "      <td>381</td>\n",
       "      <td>25.7</td>\n",
       "    </tr>\n",
       "    <tr>\n",
       "      <th>14</th>\n",
       "      <td>경기도</td>\n",
       "      <td>시흥시</td>\n",
       "      <td>36.75</td>\n",
       "      <td>1090</td>\n",
       "      <td>29.7</td>\n",
       "    </tr>\n",
       "    <tr>\n",
       "      <th>17</th>\n",
       "      <td>경기도</td>\n",
       "      <td>하남시</td>\n",
       "      <td>17.74</td>\n",
       "      <td>535</td>\n",
       "      <td>30.2</td>\n",
       "    </tr>\n",
       "  </tbody>\n",
       "</table>\n",
       "</div>"
      ],
      "text/plain": [
       "     시도   시군구  시가화면적(㎢)  정류장수   공급도\n",
       "0   경기도  수원시     223.28  1397   6.3\n",
       "8   경기도  안산시      89.12  1155  13.0\n",
       "1   경기도  성남시     114.57  1557  13.6\n",
       "18  경기도  용인시     153.72  2395  15.6\n",
       "9   경기도  고양시     149.73  2501  16.7\n",
       "3   경기도  안양시      41.18   826  20.1\n",
       "6   경기도   평택시     76.88  1625  21.1\n",
       "13  경기도   오산시     14.84   381  25.7\n",
       "14  경기도   시흥시     36.75  1090  29.7\n",
       "17  경기도   하남시     17.74   535  30.2"
      ]
     },
     "execution_count": 30,
     "metadata": {},
     "output_type": "execute_result"
    }
   ],
   "source": [
    "### ??????????\n",
    "df_gg.sort_values(by='공급도', ascending = True).head(10)"
   ]
  },
  {
   "cell_type": "code",
   "execution_count": 31,
   "metadata": {},
   "outputs": [
    {
     "data": {
      "text/html": [
       "<div>\n",
       "<style scoped>\n",
       "    .dataframe tbody tr th:only-of-type {\n",
       "        vertical-align: middle;\n",
       "    }\n",
       "\n",
       "    .dataframe tbody tr th {\n",
       "        vertical-align: top;\n",
       "    }\n",
       "\n",
       "    .dataframe thead th {\n",
       "        text-align: right;\n",
       "    }\n",
       "</style>\n",
       "<table border=\"1\" class=\"dataframe\">\n",
       "  <thead>\n",
       "    <tr style=\"text-align: right;\">\n",
       "      <th></th>\n",
       "      <th>시가화면적(㎢)</th>\n",
       "      <th>정류장수</th>\n",
       "      <th>공급도</th>\n",
       "    </tr>\n",
       "  </thead>\n",
       "  <tbody>\n",
       "    <tr>\n",
       "      <th>count</th>\n",
       "      <td>31.000000</td>\n",
       "      <td>31.000000</td>\n",
       "      <td>31.000000</td>\n",
       "    </tr>\n",
       "    <tr>\n",
       "      <th>mean</th>\n",
       "      <td>42.337097</td>\n",
       "      <td>1053.096774</td>\n",
       "      <td>50.538710</td>\n",
       "    </tr>\n",
       "    <tr>\n",
       "      <th>std</th>\n",
       "      <td>53.087951</td>\n",
       "      <td>639.367936</td>\n",
       "      <td>41.873577</td>\n",
       "    </tr>\n",
       "    <tr>\n",
       "      <th>min</th>\n",
       "      <td>3.660000</td>\n",
       "      <td>148.000000</td>\n",
       "      <td>6.300000</td>\n",
       "    </tr>\n",
       "    <tr>\n",
       "      <th>25%</th>\n",
       "      <td>9.270000</td>\n",
       "      <td>567.000000</td>\n",
       "      <td>27.700000</td>\n",
       "    </tr>\n",
       "    <tr>\n",
       "      <th>50%</th>\n",
       "      <td>17.740000</td>\n",
       "      <td>890.000000</td>\n",
       "      <td>39.200000</td>\n",
       "    </tr>\n",
       "    <tr>\n",
       "      <th>75%</th>\n",
       "      <td>44.715000</td>\n",
       "      <td>1374.500000</td>\n",
       "      <td>53.100000</td>\n",
       "    </tr>\n",
       "    <tr>\n",
       "      <th>max</th>\n",
       "      <td>223.280000</td>\n",
       "      <td>2501.000000</td>\n",
       "      <td>193.400000</td>\n",
       "    </tr>\n",
       "  </tbody>\n",
       "</table>\n",
       "</div>"
      ],
      "text/plain": [
       "         시가화면적(㎢)         정류장수         공급도\n",
       "count   31.000000    31.000000   31.000000\n",
       "mean    42.337097  1053.096774   50.538710\n",
       "std     53.087951   639.367936   41.873577\n",
       "min      3.660000   148.000000    6.300000\n",
       "25%      9.270000   567.000000   27.700000\n",
       "50%     17.740000   890.000000   39.200000\n",
       "75%     44.715000  1374.500000   53.100000\n",
       "max    223.280000  2501.000000  193.400000"
      ]
     },
     "execution_count": 31,
     "metadata": {},
     "output_type": "execute_result"
    }
   ],
   "source": [
    "# 서울의 공급도:7.1\n",
    "# 경기의 공급도:41.9로 경기의 편차가 더 크다. \n",
    "df_gg.describe()"
   ]
  },
  {
   "cell_type": "markdown",
   "metadata": {},
   "source": [
    "# 시각화"
   ]
  },
  {
   "cell_type": "code",
   "execution_count": 32,
   "metadata": {},
   "outputs": [],
   "source": [
    "# 라이브러리 임포트\n",
    "import pandas as pd\n",
    "import numpy as np\n",
    "import matplotlib.pylab as plt\n",
    "import matplotlib.font_manager as fm\n",
    "import matplotlib as mpl \n",
    "import numpy as np\n",
    "import seaborn as sns"
   ]
  },
  {
   "cell_type": "code",
   "execution_count": 33,
   "metadata": {},
   "outputs": [],
   "source": [
    "# 경기, 서울 정류장수 시각화"
   ]
  },
  {
   "cell_type": "code",
   "execution_count": 34,
   "metadata": {},
   "outputs": [],
   "source": [
    "df['구분'] = np.where(df['시도'] == '경기도', '경기','서울')"
   ]
  },
  {
   "cell_type": "code",
   "execution_count": 35,
   "metadata": {},
   "outputs": [
    {
     "data": {
      "text/plain": [
       "<matplotlib.axes._subplots.AxesSubplot at 0x1f3d908f400>"
      ]
     },
     "execution_count": 35,
     "metadata": {},
     "output_type": "execute_result"
    },
    {
     "data": {
      "image/png": "[encoded data removed]",
      "text/plain": [
       "<Figure size 432x288 with 1 Axes>"
      ]
     },
     "metadata": {},
     "output_type": "display_data"
    }
   ],
   "source": [
    "# 이상치 x\n",
    "sns.set_palette(\"pastel\")\n",
    "sns.boxplot(x='구분', y='정류장수', data= df)"
   ]
  },
  {
   "cell_type": "code",
   "execution_count": 36,
   "metadata": {},
   "outputs": [
    {
     "data": {
      "text/plain": [
       "<matplotlib.axes._subplots.AxesSubplot at 0x1f3d90efe48>"
      ]
     },
     "execution_count": 36,
     "metadata": {},
     "output_type": "execute_result"
    },
    {
     "data": {
      "image/png": "[encoded data removed]",
      "text/plain": [
       "<Figure size 432x288 with 1 Axes>"
      ]
     },
     "metadata": {},
     "output_type": "display_data"
    }
   ],
   "source": [
    "# 이상치 발견!!!\n",
    "# 공급도 순위가 높은 지역은 철도 서비스 수준이 낮은 지역으로 \n",
    "# 대부분의 대중교통편이 버스이기 때문에 \n",
    "# 시가화면적에 비해 정류장수가 많은 것으로 추측\n",
    "\n",
    "sns.set_palette(\"pastel\")\n",
    "sns.boxplot(x='구분', y='공급도', data= df)"
   ]
  },
  {
   "cell_type": "code",
   "execution_count": 37,
   "metadata": {},
   "outputs": [
    {
     "data": {
      "text/plain": [
       "<matplotlib.axes._subplots.AxesSubplot at 0x1f3d916cc88>"
      ]
     },
     "execution_count": 37,
     "metadata": {},
     "output_type": "execute_result"
    },
    {
     "data": {
      "image/png": "[encoded data removed]",
      "text/plain": [
       "<Figure size 432x288 with 1 Axes>"
      ]
     },
     "metadata": {},
     "output_type": "display_data"
    }
   ],
   "source": [
    "sns.stripplot(x = '구분', y='공급도', data = df)"
   ]
  },
  {
   "cell_type": "code",
   "execution_count": 38,
   "metadata": {},
   "outputs": [
    {
     "data": {
      "text/plain": [
       "<matplotlib.axes._subplots.AxesSubplot at 0x1f3d91bf0f0>"
      ]
     },
     "execution_count": 38,
     "metadata": {},
     "output_type": "execute_result"
    },
    {
     "data": {
      "image/png": "[encoded data removed]",
      "text/plain": [
       "<Figure size 432x288 with 1 Axes>"
      ]
     },
     "metadata": {},
     "output_type": "display_data"
    }
   ],
   "source": [
    "sns.stripplot(x = '구분', y='공급도', data = df)"
   ]
  },
  {
   "cell_type": "code",
   "execution_count": 39,
   "metadata": {},
   "outputs": [],
   "source": [
    "# 경기도 내 버스정류장 많은 지역 top5 시각화 "
   ]
  },
  {
   "cell_type": "code",
   "execution_count": 40,
   "metadata": {},
   "outputs": [],
   "source": [
    "df_ggst = df_gg.sort_values(by='정류장수', ascending = False).head(10)\n",
    "df_ggst = df_ggst.head(5)"
   ]
  },
  {
   "cell_type": "code",
   "execution_count": 41,
   "metadata": {},
   "outputs": [
    {
     "data": {
      "text/html": [
       "<div>\n",
       "<style scoped>\n",
       "    .dataframe tbody tr th:only-of-type {\n",
       "        vertical-align: middle;\n",
       "    }\n",
       "\n",
       "    .dataframe tbody tr th {\n",
       "        vertical-align: top;\n",
       "    }\n",
       "\n",
       "    .dataframe thead th {\n",
       "        text-align: right;\n",
       "    }\n",
       "</style>\n",
       "<table border=\"1\" class=\"dataframe\">\n",
       "  <thead>\n",
       "    <tr style=\"text-align: right;\">\n",
       "      <th></th>\n",
       "      <th>시도</th>\n",
       "      <th>시군구</th>\n",
       "      <th>시가화면적(㎢)</th>\n",
       "      <th>정류장수</th>\n",
       "      <th>공급도</th>\n",
       "    </tr>\n",
       "  </thead>\n",
       "  <tbody>\n",
       "    <tr>\n",
       "      <th>9</th>\n",
       "      <td>경기도</td>\n",
       "      <td>고양시</td>\n",
       "      <td>149.73</td>\n",
       "      <td>2501</td>\n",
       "      <td>16.7</td>\n",
       "    </tr>\n",
       "    <tr>\n",
       "      <th>23</th>\n",
       "      <td>경기도</td>\n",
       "      <td>화성시</td>\n",
       "      <td>74.32</td>\n",
       "      <td>2431</td>\n",
       "      <td>32.7</td>\n",
       "    </tr>\n",
       "    <tr>\n",
       "      <th>18</th>\n",
       "      <td>경기도</td>\n",
       "      <td>용인시</td>\n",
       "      <td>153.72</td>\n",
       "      <td>2395</td>\n",
       "      <td>15.6</td>\n",
       "    </tr>\n",
       "    <tr>\n",
       "      <th>19</th>\n",
       "      <td>경기도</td>\n",
       "      <td>파주시</td>\n",
       "      <td>32.87</td>\n",
       "      <td>1819</td>\n",
       "      <td>55.3</td>\n",
       "    </tr>\n",
       "    <tr>\n",
       "      <th>12</th>\n",
       "      <td>경기도</td>\n",
       "      <td>남양주시</td>\n",
       "      <td>48.25</td>\n",
       "      <td>1773</td>\n",
       "      <td>36.7</td>\n",
       "    </tr>\n",
       "  </tbody>\n",
       "</table>\n",
       "</div>"
      ],
      "text/plain": [
       "     시도   시군구  시가화면적(㎢)  정류장수   공급도\n",
       "9   경기도  고양시     149.73  2501  16.7\n",
       "23  경기도   화성시     74.32  2431  32.7\n",
       "18  경기도  용인시     153.72  2395  15.6\n",
       "19  경기도   파주시     32.87  1819  55.3\n",
       "12  경기도  남양주시     48.25  1773  36.7"
      ]
     },
     "execution_count": 41,
     "metadata": {},
     "output_type": "execute_result"
    }
   ],
   "source": [
    "df_ggst"
   ]
  },
  {
   "cell_type": "code",
   "execution_count": 42,
   "metadata": {},
   "outputs": [
    {
     "data": {
      "text/plain": [
       "<matplotlib.axes._subplots.AxesSubplot at 0x1f3d921f390>"
      ]
     },
     "execution_count": 42,
     "metadata": {},
     "output_type": "execute_result"
    },
    {
     "data": {
      "image/png": "[encoded data removed]",
      "text/plain": [
       "<Figure size 432x288 with 1 Axes>"
      ]
     },
     "metadata": {},
     "output_type": "display_data"
    }
   ],
   "source": [
    "df_ggst.plot(x = '시군구', y = '정류장수', kind = 'bar')"
   ]
  },
  {
   "cell_type": "code",
   "execution_count": 43,
   "metadata": {},
   "outputs": [],
   "source": [
    "# 경기도 내 공급도 높은 지역 top5 시각화 "
   ]
  },
  {
   "cell_type": "code",
   "execution_count": 44,
   "metadata": {},
   "outputs": [
    {
     "data": {
      "text/html": [
       "<div>\n",
       "<style scoped>\n",
       "    .dataframe tbody tr th:only-of-type {\n",
       "        vertical-align: middle;\n",
       "    }\n",
       "\n",
       "    .dataframe tbody tr th {\n",
       "        vertical-align: top;\n",
       "    }\n",
       "\n",
       "    .dataframe thead th {\n",
       "        text-align: right;\n",
       "    }\n",
       "</style>\n",
       "<table border=\"1\" class=\"dataframe\">\n",
       "  <thead>\n",
       "    <tr style=\"text-align: right;\">\n",
       "      <th></th>\n",
       "      <th>시도</th>\n",
       "      <th>시군구</th>\n",
       "      <th>시가화면적(㎢)</th>\n",
       "      <th>정류장수</th>\n",
       "      <th>공급도</th>\n",
       "    </tr>\n",
       "  </thead>\n",
       "  <tbody>\n",
       "    <tr>\n",
       "      <th>30</th>\n",
       "      <td>경기도</td>\n",
       "      <td>양평군</td>\n",
       "      <td>3.66</td>\n",
       "      <td>708</td>\n",
       "      <td>193.4</td>\n",
       "    </tr>\n",
       "    <tr>\n",
       "      <th>27</th>\n",
       "      <td>경기도</td>\n",
       "      <td>여주시</td>\n",
       "      <td>4.36</td>\n",
       "      <td>731</td>\n",
       "      <td>167.7</td>\n",
       "    </tr>\n",
       "    <tr>\n",
       "      <th>29</th>\n",
       "      <td>경기도</td>\n",
       "      <td>가평군</td>\n",
       "      <td>6.44</td>\n",
       "      <td>658</td>\n",
       "      <td>102.2</td>\n",
       "    </tr>\n",
       "    <tr>\n",
       "      <th>24</th>\n",
       "      <td>경기도</td>\n",
       "      <td>광주시</td>\n",
       "      <td>12.17</td>\n",
       "      <td>1119</td>\n",
       "      <td>91.9</td>\n",
       "    </tr>\n",
       "    <tr>\n",
       "      <th>20</th>\n",
       "      <td>경기도</td>\n",
       "      <td>이천시</td>\n",
       "      <td>10.37</td>\n",
       "      <td>888</td>\n",
       "      <td>85.6</td>\n",
       "    </tr>\n",
       "  </tbody>\n",
       "</table>\n",
       "</div>"
      ],
      "text/plain": [
       "     시도  시군구  시가화면적(㎢)  정류장수    공급도\n",
       "30  경기도  양평군      3.66   708  193.4\n",
       "27  경기도  여주시      4.36   731  167.7\n",
       "29  경기도  가평군      6.44   658  102.2\n",
       "24  경기도  광주시     12.17  1119   91.9\n",
       "20  경기도  이천시     10.37   888   85.6"
      ]
     },
     "execution_count": 44,
     "metadata": {},
     "output_type": "execute_result"
    }
   ],
   "source": [
    "df_ggsu = df_gg.sort_values(by='공급도', ascending = False).head(10)\n",
    "df_ggsu = df_ggsu.head(5)\n",
    "df_ggsu"
   ]
  },
  {
   "cell_type": "code",
   "execution_count": 45,
   "metadata": {},
   "outputs": [
    {
     "data": {
      "text/plain": [
       "<matplotlib.axes._subplots.AxesSubplot at 0x1f3d9295d68>"
      ]
     },
     "execution_count": 45,
     "metadata": {},
     "output_type": "execute_result"
    },
    {
     "data": {
      "image/png": "[encoded data removed]",
      "text/plain": [
       "<Figure size 432x288 with 1 Axes>"
      ]
     },
     "metadata": {},
     "output_type": "display_data"
    }
   ],
   "source": [
    "df_ggsu.plot(x = '시군구', y = '공급도', kind = 'bar')"
   ]
  },
  {
   "cell_type": "code",
   "execution_count": 46,
   "metadata": {},
   "outputs": [],
   "source": [
    "# 경기도 내 정류장수 순위 시각화 (31개 시도 요약)\n",
    "df_gg_st = df_gg.sort_values(by='정류장수', ascending = False)"
   ]
  },
  {
   "cell_type": "code",
   "execution_count": 47,
   "metadata": {},
   "outputs": [
    {
     "data": {
      "text/plain": [
       "<matplotlib.axes._subplots.AxesSubplot at 0x1f3d92fe7b8>"
      ]
     },
     "execution_count": 47,
     "metadata": {},
     "output_type": "execute_result"
    },
    {
     "data": {
      "image/png": "[encoded data removed]",
      "text/plain": [
       "<Figure size 432x288 with 1 Axes>"
      ]
     },
     "metadata": {},
     "output_type": "display_data"
    }
   ],
   "source": [
    "df_gg_st.plot(x = '시군구', y = '정류장수', kind = 'line')"
   ]
  },
  {
   "cell_type": "code",
   "execution_count": 48,
   "metadata": {},
   "outputs": [],
   "source": [
    "# 경기도 내 공급도 순위 시각화 (31개 시도 요약)\n",
    "df_gg_su = df_gg.sort_values(by='공급도', ascending = False)"
   ]
  },
  {
   "cell_type": "code",
   "execution_count": 49,
   "metadata": {},
   "outputs": [
    {
     "data": {
      "text/plain": [
       "<matplotlib.axes._subplots.AxesSubplot at 0x1f3d9359748>"
      ]
     },
     "execution_count": 49,
     "metadata": {},
     "output_type": "execute_result"
    },
    {
     "data": {
      "image/png": "[encoded data removed]",
      "text/plain": [
       "<Figure size 432x288 with 1 Axes>"
      ]
     },
     "metadata": {},
     "output_type": "display_data"
    }
   ],
   "source": [
    "df_gg_su.plot(x = '시군구', y = '공급도', kind = 'line')"
   ]
  },
  {
   "cell_type": "code",
   "execution_count": null,
   "metadata": {},
   "outputs": [],
   "source": []
  },
  {
   "cell_type": "code",
   "execution_count": null,
   "metadata": {},
   "outputs": [],
   "source": []
  },
  {
   "cell_type": "code",
   "execution_count": null,
   "metadata": {},
   "outputs": [],
   "source": []
  }
 ],
 "metadata": {
  "kernelspec": {
   "display_name": "Python 3",
   "language": "python",
   "name": "python3"
  },
  "language_info": {
   "codemirror_mode": {
    "name": "ipython",
    "version": 3
   },
   "file_extension": ".py",
   "mimetype": "text/x-python",
   "name": "python",
   "nbconvert_exporter": "python",
   "pygments_lexer": "ipython3",
   "version": "3.6.5"
  }
 },
 "nbformat": 4,
 "nbformat_minor": 5
}
