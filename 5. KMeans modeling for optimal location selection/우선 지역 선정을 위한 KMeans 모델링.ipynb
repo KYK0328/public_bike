{
 "cells": [
  {
   "cell_type": "code",
   "execution_count": 1,
   "metadata": {},
   "outputs": [],
   "source": [
    "# 경고메세지 제거\n",
    "import warnings\n",
    "warnings.filterwarnings('ignore')\n",
    "import matplotlib.pyplot as plt\n",
    "from matplotlib import font_manager\n",
    "\n",
    "font_fname = 'c:/windows/fonts/malgun.ttf'\n",
    "font_family = font_manager.FontProperties(fname=font_fname).get_name()\n",
    "plt.rcParams['font.family'] = font_family\n",
    "\n",
    "import pandas as pd\n",
    "import numpy as np\n",
    "import matplotlib.pyplot as plt\n",
    "import seaborn as sns"
   ]
  },
  {
   "cell_type": "code",
   "execution_count": 5,
   "metadata": {},
   "outputs": [
    {
     "data": {
      "text/html": [
       "<div>\n",
       "<style scoped>\n",
       "    .dataframe tbody tr th:only-of-type {\n",
       "        vertical-align: middle;\n",
       "    }\n",
       "\n",
       "    .dataframe tbody tr th {\n",
       "        vertical-align: top;\n",
       "    }\n",
       "\n",
       "    .dataframe thead th {\n",
       "        text-align: right;\n",
       "    }\n",
       "</style>\n",
       "<table border=\"1\" class=\"dataframe\">\n",
       "  <thead>\n",
       "    <tr style=\"text-align: right;\">\n",
       "      <th></th>\n",
       "      <th>법정동명</th>\n",
       "      <th>지하철역</th>\n",
       "      <th>문화여가시설</th>\n",
       "      <th>공공이용시설</th>\n",
       "      <th>지역화폐결제건수합</th>\n",
       "      <th>택시승강장수</th>\n",
       "      <th>동별세대</th>\n",
       "      <th>동별인구수</th>\n",
       "      <th>보증금_아파트</th>\n",
       "      <th>월세_아파트</th>\n",
       "      <th>보증금_연립다세대</th>\n",
       "      <th>월세_연립다세대</th>\n",
       "      <th>평균버스환승시간</th>\n",
       "      <th>최대버스환승시간</th>\n",
       "    </tr>\n",
       "  </thead>\n",
       "  <tbody>\n",
       "    <tr>\n",
       "      <th>0</th>\n",
       "      <td>고등동</td>\n",
       "      <td>0</td>\n",
       "      <td>5</td>\n",
       "      <td>1</td>\n",
       "      <td>58712</td>\n",
       "      <td>1</td>\n",
       "      <td>9735.0</td>\n",
       "      <td>23268.0</td>\n",
       "      <td>10974.25474</td>\n",
       "      <td>10.108401</td>\n",
       "      <td>8764.064434</td>\n",
       "      <td>13.374063</td>\n",
       "      <td>10.907861</td>\n",
       "      <td>11.567838</td>\n",
       "    </tr>\n",
       "  </tbody>\n",
       "</table>\n",
       "</div>"
      ],
      "text/plain": [
       "  법정동명  지하철역  문화여가시설  공공이용시설  지역화폐결제건수합  택시승강장수    동별세대    동별인구수      보증금_아파트  \\\n",
       "0  고등동     0       5       1      58712       1  9735.0  23268.0  10974.25474   \n",
       "\n",
       "      월세_아파트    보증금_연립다세대   월세_연립다세대   평균버스환승시간   최대버스환승시간  \n",
       "0  10.108401  8764.064434  13.374063  10.907861  11.567838  "
      ]
     },
     "execution_count": 5,
     "metadata": {},
     "output_type": "execute_result"
    }
   ],
   "source": [
    "import pandas as pd\n",
    "df = pd.read_csv('우선 지역 선정을 위한 KMeans 데이터셋.csv',encoding ='cp949',engine='python' )\n",
    "df.head(1)"
   ]
  },
  {
   "cell_type": "markdown",
   "metadata": {},
   "source": [
    "## 1. 전체 열 기준"
   ]
  },
  {
   "cell_type": "code",
   "execution_count": 6,
   "metadata": {},
   "outputs": [],
   "source": [
    "from sklearn.cluster import KMeans\n",
    "model = KMeans(n_clusters = 5)\n",
    "x = df.drop('법정동명', axis = 1)"
   ]
  },
  {
   "cell_type": "code",
   "execution_count": 7,
   "metadata": {},
   "outputs": [
    {
     "data": {
      "text/plain": [
       "2    28\n",
       "1    12\n",
       "3     8\n",
       "4     5\n",
       "0     3\n",
       "Name: label, dtype: int64"
      ]
     },
     "execution_count": 7,
     "metadata": {},
     "output_type": "execute_result"
    }
   ],
   "source": [
    "model.fit(x)\n",
    "result_df = x.copy()\n",
    "result_df['label'] = model.labels_\n",
    "result_df['label'].value_counts()"
   ]
  },
  {
   "cell_type": "markdown",
   "metadata": {},
   "source": [
    "## 그룹별로 묶어서 특성 확인하기"
   ]
  },
  {
   "cell_type": "code",
   "execution_count": 8,
   "metadata": {},
   "outputs": [
    {
     "data": {
      "text/html": [
       "<div>\n",
       "<style scoped>\n",
       "    .dataframe tbody tr th:only-of-type {\n",
       "        vertical-align: middle;\n",
       "    }\n",
       "\n",
       "    .dataframe tbody tr th {\n",
       "        vertical-align: top;\n",
       "    }\n",
       "\n",
       "    .dataframe thead th {\n",
       "        text-align: right;\n",
       "    }\n",
       "</style>\n",
       "<table border=\"1\" class=\"dataframe\">\n",
       "  <thead>\n",
       "    <tr style=\"text-align: right;\">\n",
       "      <th></th>\n",
       "      <th>지하철역</th>\n",
       "      <th>문화여가시설</th>\n",
       "      <th>공공이용시설</th>\n",
       "      <th>지역화폐결제건수합</th>\n",
       "      <th>택시승강장수</th>\n",
       "      <th>동별세대</th>\n",
       "      <th>동별인구수</th>\n",
       "      <th>보증금_아파트</th>\n",
       "      <th>월세_아파트</th>\n",
       "      <th>보증금_연립다세대</th>\n",
       "      <th>월세_연립다세대</th>\n",
       "      <th>평균버스환승시간</th>\n",
       "      <th>최대버스환승시간</th>\n",
       "    </tr>\n",
       "    <tr>\n",
       "      <th>label</th>\n",
       "      <th></th>\n",
       "      <th></th>\n",
       "      <th></th>\n",
       "      <th></th>\n",
       "      <th></th>\n",
       "      <th></th>\n",
       "      <th></th>\n",
       "      <th></th>\n",
       "      <th></th>\n",
       "      <th></th>\n",
       "      <th></th>\n",
       "      <th></th>\n",
       "      <th></th>\n",
       "    </tr>\n",
       "  </thead>\n",
       "  <tbody>\n",
       "    <tr>\n",
       "      <th>0</th>\n",
       "      <td>0.666667</td>\n",
       "      <td>27.000000</td>\n",
       "      <td>7.00</td>\n",
       "      <td>927272.000000</td>\n",
       "      <td>9.666667</td>\n",
       "      <td>30682.666667</td>\n",
       "      <td>75123.000000</td>\n",
       "      <td>22792.067533</td>\n",
       "      <td>11.613714</td>\n",
       "      <td>9719.015081</td>\n",
       "      <td>9.761430</td>\n",
       "      <td>12.209745</td>\n",
       "      <td>27.740000</td>\n",
       "    </tr>\n",
       "    <tr>\n",
       "      <th>1</th>\n",
       "      <td>0.083333</td>\n",
       "      <td>6.500000</td>\n",
       "      <td>1.50</td>\n",
       "      <td>179168.583333</td>\n",
       "      <td>1.500000</td>\n",
       "      <td>6929.916667</td>\n",
       "      <td>15461.750000</td>\n",
       "      <td>15254.266888</td>\n",
       "      <td>10.920224</td>\n",
       "      <td>7216.527772</td>\n",
       "      <td>14.014899</td>\n",
       "      <td>11.808239</td>\n",
       "      <td>22.647636</td>\n",
       "    </tr>\n",
       "    <tr>\n",
       "      <th>2</th>\n",
       "      <td>0.071429</td>\n",
       "      <td>2.178571</td>\n",
       "      <td>0.50</td>\n",
       "      <td>35174.750000</td>\n",
       "      <td>0.678571</td>\n",
       "      <td>3707.517143</td>\n",
       "      <td>7984.665179</td>\n",
       "      <td>17185.529807</td>\n",
       "      <td>6.907996</td>\n",
       "      <td>7877.803731</td>\n",
       "      <td>14.768169</td>\n",
       "      <td>11.137082</td>\n",
       "      <td>16.515695</td>\n",
       "    </tr>\n",
       "    <tr>\n",
       "      <th>3</th>\n",
       "      <td>0.125000</td>\n",
       "      <td>11.500000</td>\n",
       "      <td>3.75</td>\n",
       "      <td>367756.000000</td>\n",
       "      <td>2.375000</td>\n",
       "      <td>17261.560000</td>\n",
       "      <td>41752.453125</td>\n",
       "      <td>21084.463317</td>\n",
       "      <td>13.575880</td>\n",
       "      <td>7640.803632</td>\n",
       "      <td>14.574590</td>\n",
       "      <td>13.064219</td>\n",
       "      <td>26.774385</td>\n",
       "    </tr>\n",
       "    <tr>\n",
       "      <th>4</th>\n",
       "      <td>0.400000</td>\n",
       "      <td>25.600000</td>\n",
       "      <td>4.60</td>\n",
       "      <td>591134.000000</td>\n",
       "      <td>5.600000</td>\n",
       "      <td>22480.000000</td>\n",
       "      <td>52447.600000</td>\n",
       "      <td>26072.828168</td>\n",
       "      <td>13.431904</td>\n",
       "      <td>21494.586026</td>\n",
       "      <td>10.199788</td>\n",
       "      <td>11.720593</td>\n",
       "      <td>22.778557</td>\n",
       "    </tr>\n",
       "  </tbody>\n",
       "</table>\n",
       "</div>"
      ],
      "text/plain": [
       "           지하철역     문화여가시설  공공이용시설      지역화폐결제건수합    택시승강장수          동별세대  \\\n",
       "label                                                                       \n",
       "0      0.666667  27.000000    7.00  927272.000000  9.666667  30682.666667   \n",
       "1      0.083333   6.500000    1.50  179168.583333  1.500000   6929.916667   \n",
       "2      0.071429   2.178571    0.50   35174.750000  0.678571   3707.517143   \n",
       "3      0.125000  11.500000    3.75  367756.000000  2.375000  17261.560000   \n",
       "4      0.400000  25.600000    4.60  591134.000000  5.600000  22480.000000   \n",
       "\n",
       "              동별인구수       보증금_아파트     월세_아파트     보증금_연립다세대   월세_연립다세대  \\\n",
       "label                                                                   \n",
       "0      75123.000000  22792.067533  11.613714   9719.015081   9.761430   \n",
       "1      15461.750000  15254.266888  10.920224   7216.527772  14.014899   \n",
       "2       7984.665179  17185.529807   6.907996   7877.803731  14.768169   \n",
       "3      41752.453125  21084.463317  13.575880   7640.803632  14.574590   \n",
       "4      52447.600000  26072.828168  13.431904  21494.586026  10.199788   \n",
       "\n",
       "        평균버스환승시간   최대버스환승시간  \n",
       "label                        \n",
       "0      12.209745  27.740000  \n",
       "1      11.808239  22.647636  \n",
       "2      11.137082  16.515695  \n",
       "3      13.064219  26.774385  \n",
       "4      11.720593  22.778557  "
      ]
     },
     "execution_count": 8,
     "metadata": {},
     "output_type": "execute_result"
    }
   ],
   "source": [
    "result_df.groupby('label').mean()"
   ]
  },
  {
   "cell_type": "code",
   "execution_count": 9,
   "metadata": {},
   "outputs": [
    {
     "data": {
      "text/plain": [
       "<matplotlib.axes._subplots.AxesSubplot at 0x2ce624a0860>"
      ]
     },
     "execution_count": 9,
     "metadata": {},
     "output_type": "execute_result"
    },
    {
     "data": {
      "image/png": "[encoded data removed]",
      "text/plain": [
       "<Figure size 432x288 with 1 Axes>"
      ]
     },
     "metadata": {},
     "output_type": "display_data"
    }
   ],
   "source": [
    "distance = []\n",
    "\n",
    "for i in range(2,11):\n",
    "    model = KMeans(n_clusters = i)\n",
    "    model.fit(x)\n",
    "    distance.append(model.inertia_)\n",
    "sns.lineplot(x=list(range(2,11)), y=distance)\n"
   ]
  },
  {
   "cell_type": "markdown",
   "metadata": {},
   "source": [
    "### =>K=5로 모델링 완료"
   ]
  },
  {
   "cell_type": "markdown",
   "metadata": {},
   "source": [
    "## Train / Test 나누기"
   ]
  },
  {
   "cell_type": "code",
   "execution_count": 10,
   "metadata": {},
   "outputs": [],
   "source": [
    "from sklearn.model_selection import train_test_split\n",
    "X = result_df.drop('label', axis = 1)\n",
    "y = result_df['label']\n",
    "X_train, X_test, y_train, y_test = train_test_split(X, y, test_size = 0.2, random_state=100)"
   ]
  },
  {
   "cell_type": "markdown",
   "metadata": {},
   "source": [
    "## 모델"
   ]
  },
  {
   "cell_type": "code",
   "execution_count": 11,
   "metadata": {},
   "outputs": [
    {
     "name": "stderr",
     "output_type": "stream",
     "text": [
      "C:\\Users\\AN\\Anaconda3\\lib\\site-packages\\sklearn\\ensemble\\weight_boosting.py:29: DeprecationWarning: numpy.core.umath_tests is an internal NumPy module and should not be imported. It will be removed in a future NumPy release.\n",
      "  from numpy.core.umath_tests import inner1d\n"
     ]
    }
   ],
   "source": [
    "from sklearn.ensemble import RandomForestClassifier  # 분류임!\n",
    "from sklearn.metrics import accuracy_score, confusion_matrix"
   ]
  },
  {
   "cell_type": "code",
   "execution_count": 12,
   "metadata": {},
   "outputs": [
    {
     "data": {
      "text/plain": [
       "RandomForestClassifier(bootstrap=True, class_weight=None, criterion='gini',\n",
       "            max_depth=6, max_features='auto', max_leaf_nodes=None,\n",
       "            min_impurity_decrease=0.0, min_impurity_split=None,\n",
       "            min_samples_leaf=1, min_samples_split=2,\n",
       "            min_weight_fraction_leaf=0.0, n_estimators=10, n_jobs=1,\n",
       "            oob_score=False, random_state=123456, verbose=0,\n",
       "            warm_start=False)"
      ]
     },
     "execution_count": 12,
     "metadata": {},
     "output_type": "execute_result"
    }
   ],
   "source": [
    "from sklearn.metrics import classification_report\n",
    "# ▶ 학습\n",
    "rfc = RandomForestClassifier(random_state = 123456, max_depth=6)\n",
    "rfc.fit(X_train, y_train)"
   ]
  },
  {
   "cell_type": "code",
   "execution_count": 13,
   "metadata": {},
   "outputs": [
    {
     "data": {
      "text/plain": [
       "0.8333333333333334"
      ]
     },
     "execution_count": 13,
     "metadata": {},
     "output_type": "execute_result"
    }
   ],
   "source": [
    "# ▶ 예측\n",
    "y_pred_train = rfc.predict(X_train)\n",
    "y_pred_test = rfc.predict(X_test)\n",
    "accuracy_score(y_test, y_pred_test)"
   ]
  },
  {
   "cell_type": "code",
   "execution_count": 14,
   "metadata": {},
   "outputs": [
    {
     "data": {
      "text/plain": [
       "array([[0, 0, 0, 0, 0],\n",
       "       [0, 0, 0, 0, 0],\n",
       "       [0, 0, 8, 0, 0],\n",
       "       [0, 1, 0, 1, 0],\n",
       "       [1, 0, 0, 0, 1]], dtype=int64)"
      ]
     },
     "execution_count": 14,
     "metadata": {},
     "output_type": "execute_result"
    }
   ],
   "source": [
    "confusion_matrix(y_test, y_pred_test)"
   ]
  },
  {
   "cell_type": "markdown",
   "metadata": {},
   "source": [
    "## 중요 변수 파악"
   ]
  },
  {
   "cell_type": "code",
   "execution_count": 15,
   "metadata": {},
   "outputs": [
    {
     "data": {
      "image/png": "[encoded data removed]",
      "text/plain": [
       "<Figure size 576x432 with 1 Axes>"
      ]
     },
     "metadata": {},
     "output_type": "display_data"
    }
   ],
   "source": [
    "import matplotlib.pyplot as plt\n",
    "import seaborn as sns\n",
    "%matplotlib inline\n",
    "plt.style.use(['dark_background'])\n",
    "\n",
    "ftr_importances_values = rfc.feature_importances_ \n",
    "ftr_importances = pd.Series(ftr_importances_values, index = X_train.columns)\n",
    "ftr_top20 = ftr_importances.sort_values(ascending=False)\n",
    "\n",
    "plt.figure(figsize=(8,6))\n",
    "plt.title('Feature Importances')\n",
    "sns.barplot(x=ftr_top20, y=ftr_top20.index)\n",
    "# plt.rc('xtick', labelsize=5)\n",
    "plt.show()"
   ]
  },
  {
   "cell_type": "markdown",
   "metadata": {},
   "source": [
    "---\n",
    "## 2. 지역화폐 제거 후"
   ]
  },
  {
   "cell_type": "code",
   "execution_count": 16,
   "metadata": {},
   "outputs": [],
   "source": [
    "from sklearn.cluster import KMeans\n",
    "model = KMeans(n_clusters = 5)\n",
    "x_1 = df.drop(['법정동명','지역화폐결제건수합'], axis = 1)"
   ]
  },
  {
   "cell_type": "code",
   "execution_count": 17,
   "metadata": {},
   "outputs": [
    {
     "data": {
      "text/plain": [
       "2    26\n",
       "0    16\n",
       "4     7\n",
       "1     6\n",
       "3     1\n",
       "Name: label, dtype: int64"
      ]
     },
     "execution_count": 17,
     "metadata": {},
     "output_type": "execute_result"
    }
   ],
   "source": [
    "model.fit(x_1)\n",
    "result_df = x_1.copy()\n",
    "result_df['label'] = model.labels_\n",
    "result_df['label'].value_counts()"
   ]
  },
  {
   "cell_type": "markdown",
   "metadata": {},
   "source": [
    "## 그룹별로 묶어서 특성 확인하기"
   ]
  },
  {
   "cell_type": "code",
   "execution_count": 18,
   "metadata": {},
   "outputs": [
    {
     "data": {
      "text/html": [
       "<div>\n",
       "<style scoped>\n",
       "    .dataframe tbody tr th:only-of-type {\n",
       "        vertical-align: middle;\n",
       "    }\n",
       "\n",
       "    .dataframe tbody tr th {\n",
       "        vertical-align: top;\n",
       "    }\n",
       "\n",
       "    .dataframe thead th {\n",
       "        text-align: right;\n",
       "    }\n",
       "</style>\n",
       "<table border=\"1\" class=\"dataframe\">\n",
       "  <thead>\n",
       "    <tr style=\"text-align: right;\">\n",
       "      <th></th>\n",
       "      <th>지하철역</th>\n",
       "      <th>문화여가시설</th>\n",
       "      <th>공공이용시설</th>\n",
       "      <th>택시승강장수</th>\n",
       "      <th>동별세대</th>\n",
       "      <th>동별인구수</th>\n",
       "      <th>보증금_아파트</th>\n",
       "      <th>월세_아파트</th>\n",
       "      <th>보증금_연립다세대</th>\n",
       "      <th>월세_연립다세대</th>\n",
       "      <th>평균버스환승시간</th>\n",
       "      <th>최대버스환승시간</th>\n",
       "    </tr>\n",
       "    <tr>\n",
       "      <th>label</th>\n",
       "      <th></th>\n",
       "      <th></th>\n",
       "      <th></th>\n",
       "      <th></th>\n",
       "      <th></th>\n",
       "      <th></th>\n",
       "      <th></th>\n",
       "      <th></th>\n",
       "      <th></th>\n",
       "      <th></th>\n",
       "      <th></th>\n",
       "      <th></th>\n",
       "    </tr>\n",
       "  </thead>\n",
       "  <tbody>\n",
       "    <tr>\n",
       "      <th>0</th>\n",
       "      <td>0.125000</td>\n",
       "      <td>5.437500</td>\n",
       "      <td>1.437500</td>\n",
       "      <td>1.062500</td>\n",
       "      <td>9938.872500</td>\n",
       "      <td>21684.828125</td>\n",
       "      <td>18905.043960</td>\n",
       "      <td>10.402448</td>\n",
       "      <td>8201.761914</td>\n",
       "      <td>12.099963</td>\n",
       "      <td>12.301793</td>\n",
       "      <td>24.500042</td>\n",
       "    </tr>\n",
       "    <tr>\n",
       "      <th>1</th>\n",
       "      <td>0.333333</td>\n",
       "      <td>25.500000</td>\n",
       "      <td>5.666667</td>\n",
       "      <td>7.000000</td>\n",
       "      <td>27905.666667</td>\n",
       "      <td>70021.333333</td>\n",
       "      <td>24886.984972</td>\n",
       "      <td>11.036718</td>\n",
       "      <td>8705.289033</td>\n",
       "      <td>11.497280</td>\n",
       "      <td>12.493136</td>\n",
       "      <td>24.779542</td>\n",
       "    </tr>\n",
       "    <tr>\n",
       "      <th>2</th>\n",
       "      <td>0.076923</td>\n",
       "      <td>2.692308</td>\n",
       "      <td>0.576923</td>\n",
       "      <td>0.807692</td>\n",
       "      <td>1949.423077</td>\n",
       "      <td>4391.500000</td>\n",
       "      <td>15108.404012</td>\n",
       "      <td>7.241390</td>\n",
       "      <td>7357.752809</td>\n",
       "      <td>15.963303</td>\n",
       "      <td>10.849878</td>\n",
       "      <td>15.957227</td>\n",
       "    </tr>\n",
       "    <tr>\n",
       "      <th>3</th>\n",
       "      <td>0.000000</td>\n",
       "      <td>22.000000</td>\n",
       "      <td>7.000000</td>\n",
       "      <td>2.000000</td>\n",
       "      <td>22147.000000</td>\n",
       "      <td>53339.000000</td>\n",
       "      <td>45867.626530</td>\n",
       "      <td>24.527365</td>\n",
       "      <td>74929.166670</td>\n",
       "      <td>5.000000</td>\n",
       "      <td>11.047535</td>\n",
       "      <td>17.250000</td>\n",
       "    </tr>\n",
       "    <tr>\n",
       "      <th>4</th>\n",
       "      <td>0.285714</td>\n",
       "      <td>15.428571</td>\n",
       "      <td>3.857143</td>\n",
       "      <td>4.428571</td>\n",
       "      <td>18603.142857</td>\n",
       "      <td>42305.000000</td>\n",
       "      <td>20167.620457</td>\n",
       "      <td>12.801616</td>\n",
       "      <td>7891.796806</td>\n",
       "      <td>13.705501</td>\n",
       "      <td>12.621609</td>\n",
       "      <td>24.671874</td>\n",
       "    </tr>\n",
       "  </tbody>\n",
       "</table>\n",
       "</div>"
      ],
      "text/plain": [
       "           지하철역     문화여가시설    공공이용시설    택시승강장수          동별세대         동별인구수  \\\n",
       "label                                                                        \n",
       "0      0.125000   5.437500  1.437500  1.062500   9938.872500  21684.828125   \n",
       "1      0.333333  25.500000  5.666667  7.000000  27905.666667  70021.333333   \n",
       "2      0.076923   2.692308  0.576923  0.807692   1949.423077   4391.500000   \n",
       "3      0.000000  22.000000  7.000000  2.000000  22147.000000  53339.000000   \n",
       "4      0.285714  15.428571  3.857143  4.428571  18603.142857  42305.000000   \n",
       "\n",
       "            보증금_아파트     월세_아파트     보증금_연립다세대   월세_연립다세대   평균버스환승시간   최대버스환승시간  \n",
       "label                                                                          \n",
       "0      18905.043960  10.402448   8201.761914  12.099963  12.301793  24.500042  \n",
       "1      24886.984972  11.036718   8705.289033  11.497280  12.493136  24.779542  \n",
       "2      15108.404012   7.241390   7357.752809  15.963303  10.849878  15.957227  \n",
       "3      45867.626530  24.527365  74929.166670   5.000000  11.047535  17.250000  \n",
       "4      20167.620457  12.801616   7891.796806  13.705501  12.621609  24.671874  "
      ]
     },
     "execution_count": 18,
     "metadata": {},
     "output_type": "execute_result"
    }
   ],
   "source": [
    "result_df.groupby('label').mean()"
   ]
  },
  {
   "cell_type": "code",
   "execution_count": 19,
   "metadata": {},
   "outputs": [
    {
     "data": {
      "text/plain": [
       "<matplotlib.axes._subplots.AxesSubplot at 0x2ce626e8550>"
      ]
     },
     "execution_count": 19,
     "metadata": {},
     "output_type": "execute_result"
    },
    {
     "data": {
      "image/png": "[encoded data removed]",
      "text/plain": [
       "<Figure size 432x288 with 1 Axes>"
      ]
     },
     "metadata": {},
     "output_type": "display_data"
    }
   ],
   "source": [
    "distance = []\n",
    "\n",
    "for i in range(2,11):\n",
    "    model = KMeans(n_clusters = i)\n",
    "    model.fit(x_1)\n",
    "    distance.append(model.inertia_)\n",
    "sns.lineplot(x=list(range(2,11)), y=distance)"
   ]
  },
  {
   "cell_type": "markdown",
   "metadata": {},
   "source": [
    "## Train / Test 나누기"
   ]
  },
  {
   "cell_type": "code",
   "execution_count": 20,
   "metadata": {},
   "outputs": [],
   "source": [
    "from sklearn.model_selection import train_test_split\n",
    "X = result_df.drop('label', axis = 1)\n",
    "y = result_df['label']\n",
    "X_train, X_test, y_train, y_test = train_test_split(X, y, test_size = 0.2, random_state=100)"
   ]
  },
  {
   "cell_type": "markdown",
   "metadata": {},
   "source": [
    "## 모델"
   ]
  },
  {
   "cell_type": "code",
   "execution_count": 21,
   "metadata": {},
   "outputs": [],
   "source": [
    "from sklearn.ensemble import RandomForestClassifier  # 분류임!\n",
    "from sklearn.metrics import accuracy_score, confusion_matrix"
   ]
  },
  {
   "cell_type": "code",
   "execution_count": 22,
   "metadata": {},
   "outputs": [
    {
     "data": {
      "text/plain": [
       "RandomForestClassifier(bootstrap=True, class_weight=None, criterion='gini',\n",
       "            max_depth=6, max_features='auto', max_leaf_nodes=None,\n",
       "            min_impurity_decrease=0.0, min_impurity_split=None,\n",
       "            min_samples_leaf=1, min_samples_split=2,\n",
       "            min_weight_fraction_leaf=0.0, n_estimators=10, n_jobs=1,\n",
       "            oob_score=False, random_state=123456, verbose=0,\n",
       "            warm_start=False)"
      ]
     },
     "execution_count": 22,
     "metadata": {},
     "output_type": "execute_result"
    }
   ],
   "source": [
    "from sklearn.metrics import classification_report\n",
    "# ▶ 학습\n",
    "rfc = RandomForestClassifier(random_state = 123456, max_depth=6)\n",
    "rfc.fit(X_train, y_train)"
   ]
  },
  {
   "cell_type": "code",
   "execution_count": 23,
   "metadata": {},
   "outputs": [
    {
     "data": {
      "text/plain": [
       "1.0"
      ]
     },
     "execution_count": 23,
     "metadata": {},
     "output_type": "execute_result"
    }
   ],
   "source": [
    "# ▶ 예측\n",
    "y_pred_train = rfc.predict(X_train)\n",
    "y_pred_test = rfc.predict(X_test)\n",
    "accuracy_score(y_test, y_pred_test)"
   ]
  },
  {
   "cell_type": "code",
   "execution_count": 24,
   "metadata": {},
   "outputs": [
    {
     "data": {
      "text/plain": [
       "array([[4, 0, 0, 0],\n",
       "       [0, 2, 0, 0],\n",
       "       [0, 0, 5, 0],\n",
       "       [0, 0, 0, 1]], dtype=int64)"
      ]
     },
     "execution_count": 24,
     "metadata": {},
     "output_type": "execute_result"
    }
   ],
   "source": [
    "confusion_matrix(y_test, y_pred_test)"
   ]
  },
  {
   "cell_type": "markdown",
   "metadata": {},
   "source": [
    "## 중요 변수 파악"
   ]
  },
  {
   "cell_type": "code",
   "execution_count": 25,
   "metadata": {},
   "outputs": [
    {
     "data": {
      "image/png": "[encoded data removed]",
      "text/plain": [
       "<Figure size 576x432 with 1 Axes>"
      ]
     },
     "metadata": {},
     "output_type": "display_data"
    }
   ],
   "source": [
    "import matplotlib.pyplot as plt\n",
    "import seaborn as sns\n",
    "%matplotlib inline\n",
    "plt.style.use(['dark_background'])\n",
    "\n",
    "ftr_importances_values = rfc.feature_importances_ \n",
    "ftr_importances = pd.Series(ftr_importances_values, index = X_train.columns)\n",
    "ftr_top20 = ftr_importances.sort_values(ascending=False)\n",
    "\n",
    "plt.figure(figsize=(8,6))\n",
    "plt.title('Feature Importances')\n",
    "sns.barplot(x=ftr_top20, y=ftr_top20.index)\n",
    "# plt.rc('xtick', labelsize=5)\n",
    "plt.show()"
   ]
  },
  {
   "cell_type": "code",
   "execution_count": null,
   "metadata": {},
   "outputs": [],
   "source": []
  },
  {
   "cell_type": "code",
   "execution_count": null,
   "metadata": {},
   "outputs": [],
   "source": []
  },
  {
   "cell_type": "code",
   "execution_count": null,
   "metadata": {},
   "outputs": [],
   "source": []
  },
  {
   "cell_type": "code",
   "execution_count": null,
   "metadata": {},
   "outputs": [],
   "source": []
  },
  {
   "cell_type": "code",
   "execution_count": null,
   "metadata": {},
   "outputs": [],
   "source": []
  }
 ],
 "metadata": {
  "kernelspec": {
   "display_name": "Python 3",
   "language": "python",
   "name": "python3"
  },
  "language_info": {
   "codemirror_mode": {
    "name": "ipython",
    "version": 3
   },
   "file_extension": ".py",
   "mimetype": "text/x-python",
   "name": "python",
   "nbconvert_exporter": "python",
   "pygments_lexer": "ipython3",
   "version": "3.6.5"
  }
 },
 "nbformat": 4,
 "nbformat_minor": 5
}
