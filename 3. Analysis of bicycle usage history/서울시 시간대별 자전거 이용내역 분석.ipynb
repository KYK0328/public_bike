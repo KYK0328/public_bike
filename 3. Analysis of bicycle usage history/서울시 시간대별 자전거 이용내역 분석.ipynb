{
 "cells": [
  {
   "cell_type": "code",
   "execution_count": 1,
   "metadata": {},
   "outputs": [],
   "source": [
    "import pandas as pd\n",
    "df = pd.read_csv('서울특별시 공공자전거 이용정보 데이터.csv',engine=\"python\",encoding = 'cp949')"
   ]
  },
  {
   "cell_type": "code",
   "execution_count": 2,
   "metadata": {},
   "outputs": [
    {
     "data": {
      "text/html": [
       "<div>\n",
       "<style scoped>\n",
       "    .dataframe tbody tr th:only-of-type {\n",
       "        vertical-align: middle;\n",
       "    }\n",
       "\n",
       "    .dataframe tbody tr th {\n",
       "        vertical-align: top;\n",
       "    }\n",
       "\n",
       "    .dataframe thead th {\n",
       "        text-align: right;\n",
       "    }\n",
       "</style>\n",
       "<table border=\"1\" class=\"dataframe\">\n",
       "  <thead>\n",
       "    <tr style=\"text-align: right;\">\n",
       "      <th></th>\n",
       "      <th>대여일자</th>\n",
       "      <th>대여시간</th>\n",
       "      <th>대여소번호</th>\n",
       "      <th>대여소명</th>\n",
       "      <th>대여구분코드</th>\n",
       "      <th>성별</th>\n",
       "      <th>연령대코드</th>\n",
       "      <th>이용건수</th>\n",
       "      <th>운동량</th>\n",
       "      <th>탄소량</th>\n",
       "      <th>이동거리(M)</th>\n",
       "      <th>이용시간(분)</th>\n",
       "    </tr>\n",
       "  </thead>\n",
       "  <tbody>\n",
       "    <tr>\n",
       "      <th>3704325</th>\n",
       "      <td>2022-06-30</td>\n",
       "      <td>23</td>\n",
       "      <td>4564</td>\n",
       "      <td>4564. 63스퀘어</td>\n",
       "      <td>정기권</td>\n",
       "      <td>M</td>\n",
       "      <td>기타</td>\n",
       "      <td>1</td>\n",
       "      <td>65.64</td>\n",
       "      <td>0.51</td>\n",
       "      <td>2210.0</td>\n",
       "      <td>15</td>\n",
       "    </tr>\n",
       "    <tr>\n",
       "      <th>3704326</th>\n",
       "      <td>2022-06-30</td>\n",
       "      <td>23</td>\n",
       "      <td>263</td>\n",
       "      <td>263. 근로자회관 사거리</td>\n",
       "      <td>정기권</td>\n",
       "      <td>M</td>\n",
       "      <td>기타</td>\n",
       "      <td>1</td>\n",
       "      <td>38.81</td>\n",
       "      <td>0.23</td>\n",
       "      <td>980.0</td>\n",
       "      <td>16</td>\n",
       "    </tr>\n",
       "    <tr>\n",
       "      <th>3704327</th>\n",
       "      <td>2022-06-30</td>\n",
       "      <td>23</td>\n",
       "      <td>1308</td>\n",
       "      <td>1308. 안암로터리 버스정류장 앞</td>\n",
       "      <td>정기권</td>\n",
       "      <td>M</td>\n",
       "      <td>기타</td>\n",
       "      <td>1</td>\n",
       "      <td>18.53</td>\n",
       "      <td>0.17</td>\n",
       "      <td>720.0</td>\n",
       "      <td>3</td>\n",
       "    </tr>\n",
       "  </tbody>\n",
       "</table>\n",
       "</div>"
      ],
      "text/plain": [
       "               대여일자  대여시간  대여소번호                 대여소명 대여구분코드 성별 연령대코드  이용건수  \\\n",
       "3704325  2022-06-30    23   4564          4564. 63스퀘어    정기권  M    기타     1   \n",
       "3704326  2022-06-30    23    263       263. 근로자회관 사거리    정기권  M    기타     1   \n",
       "3704327  2022-06-30    23   1308  1308. 안암로터리 버스정류장 앞    정기권  M    기타     1   \n",
       "\n",
       "           운동량   탄소량  이동거리(M)  이용시간(분)  \n",
       "3704325  65.64  0.51   2210.0       15  \n",
       "3704326  38.81  0.23    980.0       16  \n",
       "3704327  18.53  0.17    720.0        3  "
      ]
     },
     "execution_count": 2,
     "metadata": {},
     "output_type": "execute_result"
    }
   ],
   "source": [
    "df.tail(3)"
   ]
  },
  {
   "cell_type": "code",
   "execution_count": 3,
   "metadata": {},
   "outputs": [
    {
     "data": {
      "text/plain": [
       "(3704328, 12)"
      ]
     },
     "execution_count": 3,
     "metadata": {},
     "output_type": "execute_result"
    }
   ],
   "source": [
    "df.shape"
   ]
  },
  {
   "cell_type": "code",
   "execution_count": 4,
   "metadata": {},
   "outputs": [
    {
     "name": "stdout",
     "output_type": "stream",
     "text": [
      "<class 'pandas.core.frame.DataFrame'>\n",
      "RangeIndex: 3704328 entries, 0 to 3704327\n",
      "Data columns (total 12 columns):\n",
      "대여일자       object\n",
      "대여시간       int64\n",
      "대여소번호      int64\n",
      "대여소명       object\n",
      "대여구분코드     object\n",
      "성별         object\n",
      "연령대코드      object\n",
      "이용건수       int64\n",
      "운동량        object\n",
      "탄소량        object\n",
      "이동거리(M)    float64\n",
      "이용시간(분)    int64\n",
      "dtypes: float64(1), int64(4), object(7)\n",
      "memory usage: 339.1+ MB\n"
     ]
    }
   ],
   "source": [
    "df.info()"
   ]
  },
  {
   "cell_type": "code",
   "execution_count": 5,
   "metadata": {},
   "outputs": [
    {
     "data": {
      "text/plain": [
       "대여일자             0\n",
       "대여시간             0\n",
       "대여소번호            0\n",
       "대여소명             0\n",
       "대여구분코드           0\n",
       "성별         1261720\n",
       "연령대코드            0\n",
       "이용건수             0\n",
       "운동량              0\n",
       "탄소량              0\n",
       "이동거리(M)          0\n",
       "이용시간(분)          0\n",
       "dtype: int64"
      ]
     },
     "execution_count": 5,
     "metadata": {},
     "output_type": "execute_result"
    }
   ],
   "source": [
    "df.isna().sum()"
   ]
  },
  {
   "cell_type": "markdown",
   "metadata": {},
   "source": [
    " ### * 성별 중에 34% 는 결측치 -> 성별에 대한 정보 알아내기는 쉽지 않음"
   ]
  },
  {
   "cell_type": "code",
   "execution_count": 6,
   "metadata": {},
   "outputs": [
    {
     "data": {
      "text/html": [
       "<div>\n",
       "<style scoped>\n",
       "    .dataframe tbody tr th:only-of-type {\n",
       "        vertical-align: middle;\n",
       "    }\n",
       "\n",
       "    .dataframe tbody tr th {\n",
       "        vertical-align: top;\n",
       "    }\n",
       "\n",
       "    .dataframe thead th {\n",
       "        text-align: right;\n",
       "    }\n",
       "</style>\n",
       "<table border=\"1\" class=\"dataframe\">\n",
       "  <thead>\n",
       "    <tr style=\"text-align: right;\">\n",
       "      <th></th>\n",
       "      <th>대여시간</th>\n",
       "      <th>대여소번호</th>\n",
       "      <th>이용건수</th>\n",
       "      <th>이동거리(M)</th>\n",
       "      <th>이용시간(분)</th>\n",
       "    </tr>\n",
       "  </thead>\n",
       "  <tbody>\n",
       "    <tr>\n",
       "      <th>count</th>\n",
       "      <td>3.704328e+06</td>\n",
       "      <td>3.704328e+06</td>\n",
       "      <td>3.704328e+06</td>\n",
       "      <td>3.704328e+06</td>\n",
       "      <td>3.704328e+06</td>\n",
       "    </tr>\n",
       "    <tr>\n",
       "      <th>mean</th>\n",
       "      <td>1.416412e+01</td>\n",
       "      <td>1.987047e+03</td>\n",
       "      <td>1.149120e+00</td>\n",
       "      <td>3.135646e+03</td>\n",
       "      <td>2.622830e+01</td>\n",
       "    </tr>\n",
       "    <tr>\n",
       "      <th>std</th>\n",
       "      <td>5.984212e+00</td>\n",
       "      <td>1.455010e+03</td>\n",
       "      <td>4.984830e-01</td>\n",
       "      <td>3.944730e+03</td>\n",
       "      <td>3.192456e+01</td>\n",
       "    </tr>\n",
       "    <tr>\n",
       "      <th>min</th>\n",
       "      <td>0.000000e+00</td>\n",
       "      <td>3.000000e+00</td>\n",
       "      <td>1.000000e+00</td>\n",
       "      <td>0.000000e+00</td>\n",
       "      <td>0.000000e+00</td>\n",
       "    </tr>\n",
       "    <tr>\n",
       "      <th>25%</th>\n",
       "      <td>1.000000e+01</td>\n",
       "      <td>7.740000e+02</td>\n",
       "      <td>1.000000e+00</td>\n",
       "      <td>9.700000e+02</td>\n",
       "      <td>7.000000e+00</td>\n",
       "    </tr>\n",
       "    <tr>\n",
       "      <th>50%</th>\n",
       "      <td>1.600000e+01</td>\n",
       "      <td>1.628000e+03</td>\n",
       "      <td>1.000000e+00</td>\n",
       "      <td>1.800810e+03</td>\n",
       "      <td>1.500000e+01</td>\n",
       "    </tr>\n",
       "    <tr>\n",
       "      <th>75%</th>\n",
       "      <td>1.900000e+01</td>\n",
       "      <td>3.006000e+03</td>\n",
       "      <td>1.000000e+00</td>\n",
       "      <td>3.630000e+03</td>\n",
       "      <td>3.400000e+01</td>\n",
       "    </tr>\n",
       "    <tr>\n",
       "      <th>max</th>\n",
       "      <td>2.300000e+01</td>\n",
       "      <td>9.999900e+04</td>\n",
       "      <td>3.100000e+01</td>\n",
       "      <td>1.952100e+05</td>\n",
       "      <td>1.938000e+03</td>\n",
       "    </tr>\n",
       "  </tbody>\n",
       "</table>\n",
       "</div>"
      ],
      "text/plain": [
       "               대여시간         대여소번호          이용건수       이동거리(M)       이용시간(분)\n",
       "count  3.704328e+06  3.704328e+06  3.704328e+06  3.704328e+06  3.704328e+06\n",
       "mean   1.416412e+01  1.987047e+03  1.149120e+00  3.135646e+03  2.622830e+01\n",
       "std    5.984212e+00  1.455010e+03  4.984830e-01  3.944730e+03  3.192456e+01\n",
       "min    0.000000e+00  3.000000e+00  1.000000e+00  0.000000e+00  0.000000e+00\n",
       "25%    1.000000e+01  7.740000e+02  1.000000e+00  9.700000e+02  7.000000e+00\n",
       "50%    1.600000e+01  1.628000e+03  1.000000e+00  1.800810e+03  1.500000e+01\n",
       "75%    1.900000e+01  3.006000e+03  1.000000e+00  3.630000e+03  3.400000e+01\n",
       "max    2.300000e+01  9.999900e+04  3.100000e+01  1.952100e+05  1.938000e+03"
      ]
     },
     "execution_count": 6,
     "metadata": {},
     "output_type": "execute_result"
    }
   ],
   "source": [
    "df.describe()"
   ]
  },
  {
   "cell_type": "code",
   "execution_count": 7,
   "metadata": {},
   "outputs": [
    {
     "data": {
      "text/plain": [
       "18    335855\n",
       "17    278332\n",
       "19    265785\n",
       "20    231713\n",
       "8     226663\n",
       "16    220779\n",
       "21    216761\n",
       "22    184793\n",
       "15    179002\n",
       "7     167462\n",
       "12    158375\n",
       "13    155557\n",
       "14    153363\n",
       "9     149161\n",
       "11    146412\n",
       "10    127809\n",
       "23    127080\n",
       "0     102343\n",
       "6      73402\n",
       "1      69609\n",
       "2      45710\n",
       "5      36822\n",
       "3      28577\n",
       "4      22963\n",
       "Name: 대여시간, dtype: int64"
      ]
     },
     "execution_count": 7,
     "metadata": {},
     "output_type": "execute_result"
    }
   ],
   "source": [
    "df['대여시간'].value_counts()"
   ]
  },
  {
   "cell_type": "code",
   "execution_count": 8,
   "metadata": {},
   "outputs": [
    {
     "data": {
      "text/plain": [
       "20대      1257122\n",
       "30대       862500\n",
       "40대       523899\n",
       "기타        376098\n",
       "50대       338900\n",
       "~10대      227169\n",
       "60대       103920\n",
       "70대이상      14720\n",
       "Name: 연령대코드, dtype: int64"
      ]
     },
     "execution_count": 8,
     "metadata": {},
     "output_type": "execute_result"
    }
   ],
   "source": [
    "df['연령대코드'].value_counts()"
   ]
  },
  {
   "cell_type": "code",
   "execution_count": 9,
   "metadata": {},
   "outputs": [
    {
     "name": "stdout",
     "output_type": "stream",
     "text": [
      "0.33936573651145363\n",
      "0.2328357532054397\n",
      "0.14142889074617582\n"
     ]
    }
   ],
   "source": [
    "print(1257122/3704328)\n",
    "print(862500/3704328)\n",
    "print(523899/3704328)"
   ]
  },
  {
   "cell_type": "markdown",
   "metadata": {},
   "source": [
    "### * 20대가 33%, 30대가 23%, 40대가 14% => 총 70%\n",
    "### * 기타 => 10% // 6~70대 3% // ~10대 6%"
   ]
  },
  {
   "cell_type": "code",
   "execution_count": 10,
   "metadata": {},
   "outputs": [
    {
     "data": {
      "text/plain": [
       "1     3282763\n",
       "2      336329\n",
       "3       59719\n",
       "4       15903\n",
       "5        5235\n",
       "6        2120\n",
       "7         978\n",
       "8         471\n",
       "9         295\n",
       "10        156\n",
       "11        122\n",
       "12         68\n",
       "13         36\n",
       "15         36\n",
       "14         31\n",
       "16         19\n",
       "17         14\n",
       "18         13\n",
       "20          6\n",
       "19          4\n",
       "21          3\n",
       "23          3\n",
       "22          2\n",
       "24          1\n",
       "31          1\n",
       "Name: 이용건수, dtype: int64"
      ]
     },
     "execution_count": 10,
     "metadata": {},
     "output_type": "execute_result"
    }
   ],
   "source": [
    "df['이용건수'].value_counts()"
   ]
  },
  {
   "cell_type": "markdown",
   "metadata": {},
   "source": [
    "### * 한달 기준 이용횟수 1~ 6번이 제일 많음"
   ]
  },
  {
   "cell_type": "code",
   "execution_count": 11,
   "metadata": {},
   "outputs": [
    {
     "data": {
      "text/html": [
       "<div>\n",
       "<style scoped>\n",
       "    .dataframe tbody tr th:only-of-type {\n",
       "        vertical-align: middle;\n",
       "    }\n",
       "\n",
       "    .dataframe tbody tr th {\n",
       "        vertical-align: top;\n",
       "    }\n",
       "\n",
       "    .dataframe thead th {\n",
       "        text-align: right;\n",
       "    }\n",
       "</style>\n",
       "<table border=\"1\" class=\"dataframe\">\n",
       "  <thead>\n",
       "    <tr style=\"text-align: right;\">\n",
       "      <th></th>\n",
       "      <th>대여일자</th>\n",
       "      <th>대여시간</th>\n",
       "      <th>대여소번호</th>\n",
       "      <th>대여소명</th>\n",
       "      <th>대여구분코드</th>\n",
       "      <th>성별</th>\n",
       "      <th>연령대코드</th>\n",
       "      <th>이용건수</th>\n",
       "      <th>운동량</th>\n",
       "      <th>탄소량</th>\n",
       "      <th>이동거리</th>\n",
       "      <th>이용시간</th>\n",
       "    </tr>\n",
       "  </thead>\n",
       "  <tbody>\n",
       "    <tr>\n",
       "      <th>0</th>\n",
       "      <td>2022-06-01</td>\n",
       "      <td>0</td>\n",
       "      <td>742</td>\n",
       "      <td>742. 등촌역 5번 출구 뒤</td>\n",
       "      <td>정기권</td>\n",
       "      <td>NaN</td>\n",
       "      <td>~10대</td>\n",
       "      <td>1</td>\n",
       "      <td>48.30</td>\n",
       "      <td>0.46</td>\n",
       "      <td>1999.70</td>\n",
       "      <td>10</td>\n",
       "    </tr>\n",
       "    <tr>\n",
       "      <th>1</th>\n",
       "      <td>2022-06-01</td>\n",
       "      <td>0</td>\n",
       "      <td>2059</td>\n",
       "      <td>2059. 보라매공원 정문</td>\n",
       "      <td>정기권</td>\n",
       "      <td>NaN</td>\n",
       "      <td>~10대</td>\n",
       "      <td>1</td>\n",
       "      <td>27.47</td>\n",
       "      <td>0.23</td>\n",
       "      <td>991.00</td>\n",
       "      <td>9</td>\n",
       "    </tr>\n",
       "    <tr>\n",
       "      <th>2</th>\n",
       "      <td>2022-06-01</td>\n",
       "      <td>0</td>\n",
       "      <td>1349</td>\n",
       "      <td>1349. 월계2교 버스정류장 앞</td>\n",
       "      <td>정기권</td>\n",
       "      <td>NaN</td>\n",
       "      <td>~10대</td>\n",
       "      <td>1</td>\n",
       "      <td>20.63</td>\n",
       "      <td>0.20</td>\n",
       "      <td>868.17</td>\n",
       "      <td>3</td>\n",
       "    </tr>\n",
       "  </tbody>\n",
       "</table>\n",
       "</div>"
      ],
      "text/plain": [
       "         대여일자  대여시간  대여소번호                대여소명 대여구분코드   성별 연령대코드  이용건수    운동량  \\\n",
       "0  2022-06-01     0    742    742. 등촌역 5번 출구 뒤    정기권  NaN  ~10대     1  48.30   \n",
       "1  2022-06-01     0   2059      2059. 보라매공원 정문    정기권  NaN  ~10대     1  27.47   \n",
       "2  2022-06-01     0   1349  1349. 월계2교 버스정류장 앞    정기권  NaN  ~10대     1  20.63   \n",
       "\n",
       "    탄소량     이동거리  이용시간  \n",
       "0  0.46  1999.70    10  \n",
       "1  0.23   991.00     9  \n",
       "2  0.20   868.17     3  "
      ]
     },
     "execution_count": 11,
     "metadata": {},
     "output_type": "execute_result"
    }
   ],
   "source": [
    "df = df.rename(columns = {'이용시간(분)' : '이용시간'})\n",
    "df = df.rename(columns = {'이동거리(M)': '이동거리'})\n",
    "df.head(3)"
   ]
  },
  {
   "cell_type": "code",
   "execution_count": 12,
   "metadata": {},
   "outputs": [
    {
     "data": {
      "text/plain": [
       "5       183379\n",
       "6       179361\n",
       "4       174703\n",
       "7       168394\n",
       "8       156871\n",
       "9       145901\n",
       "3       141923\n",
       "10      135563\n",
       "11      122572\n",
       "12      112678\n",
       "13      102287\n",
       "14       93800\n",
       "2        89257\n",
       "15       86298\n",
       "16       79441\n",
       "17       72513\n",
       "18       67657\n",
       "19       62323\n",
       "20       59310\n",
       "21       54488\n",
       "22       51237\n",
       "23       47858\n",
       "24       45320\n",
       "25       42695\n",
       "26       40508\n",
       "27       37995\n",
       "28       36166\n",
       "29       34351\n",
       "30       33711\n",
       "31       31670\n",
       "         ...  \n",
       "778          1\n",
       "779          1\n",
       "783          1\n",
       "790          1\n",
       "791          1\n",
       "792          1\n",
       "793          1\n",
       "509          1\n",
       "751          1\n",
       "749          1\n",
       "748          1\n",
       "747          1\n",
       "716          1\n",
       "717          1\n",
       "718          1\n",
       "719          1\n",
       "528          1\n",
       "721          1\n",
       "722          1\n",
       "725          1\n",
       "726          1\n",
       "730          1\n",
       "732          1\n",
       "733          1\n",
       "735          1\n",
       "526          1\n",
       "741          1\n",
       "742          1\n",
       "524          1\n",
       "1938         1\n",
       "Name: 이용시간, Length: 817, dtype: int64"
      ]
     },
     "execution_count": 12,
     "metadata": {},
     "output_type": "execute_result"
    }
   ],
   "source": [
    "df['이용시간'].value_counts()"
   ]
  },
  {
   "cell_type": "code",
   "execution_count": 13,
   "metadata": {},
   "outputs": [
    {
     "data": {
      "text/plain": [
       "5     183379\n",
       "6     179361\n",
       "4     174703\n",
       "7     168394\n",
       "8     156871\n",
       "9     145901\n",
       "3     141923\n",
       "10    135563\n",
       "11    122572\n",
       "12    112678\n",
       "13    102287\n",
       "14     93800\n",
       "2      89257\n",
       "15     86298\n",
       "16     79441\n",
       "Name: 이용시간, dtype: int64"
      ]
     },
     "execution_count": 13,
     "metadata": {},
     "output_type": "execute_result"
    }
   ],
   "source": [
    "df['이용시간'].value_counts().head(15)"
   ]
  },
  {
   "cell_type": "code",
   "execution_count": 14,
   "metadata": {},
   "outputs": [
    {
     "data": {
      "text/plain": [
       "2687055"
      ]
     },
     "execution_count": 14,
     "metadata": {},
     "output_type": "execute_result"
    }
   ],
   "source": [
    "sum(df['이용시간']<= 30)"
   ]
  },
  {
   "cell_type": "code",
   "execution_count": 15,
   "metadata": {},
   "outputs": [
    {
     "data": {
      "text/plain": [
       "1921482"
      ]
     },
     "execution_count": 15,
     "metadata": {},
     "output_type": "execute_result"
    }
   ],
   "source": [
    "sum(df['이용시간']<= 15)"
   ]
  },
  {
   "cell_type": "code",
   "execution_count": 16,
   "metadata": {},
   "outputs": [
    {
     "name": "stdout",
     "output_type": "stream",
     "text": [
      "0.7253825795123974\n"
     ]
    }
   ],
   "source": [
    "print(2687055/3704328)"
   ]
  },
  {
   "cell_type": "code",
   "execution_count": 17,
   "metadata": {},
   "outputs": [
    {
     "name": "stdout",
     "output_type": "stream",
     "text": [
      "0.5187127057863127\n"
     ]
    }
   ],
   "source": [
    "print(1921482/3704328)"
   ]
  },
  {
   "cell_type": "markdown",
   "metadata": {},
   "source": [
    "### * 이용자의 72.5%는 30분 이내로 자전거를 대여함\n",
    "### * 이용자의 51.8%는 15분 이내로 자전거를 대여함"
   ]
  },
  {
   "cell_type": "code",
   "execution_count": 18,
   "metadata": {},
   "outputs": [],
   "source": [
    "go_time = df[(df['대여시간']<=10)&(df['대여시간']>=7)]['이용시간']"
   ]
  },
  {
   "cell_type": "code",
   "execution_count": 19,
   "metadata": {},
   "outputs": [],
   "source": [
    "back_time = df[(df['대여시간']<=20)&(df['대여시간']>=17)]['이용시간']"
   ]
  },
  {
   "cell_type": "code",
   "execution_count": 20,
   "metadata": {},
   "outputs": [
    {
     "data": {
      "text/plain": [
       "4     44980\n",
       "5     44184\n",
       "6     40699\n",
       "3     37978\n",
       "7     36753\n",
       "8     33413\n",
       "9     30387\n",
       "10    27581\n",
       "2     24706\n",
       "11    24643\n",
       "12    22188\n",
       "13    19387\n",
       "14    17502\n",
       "15    16046\n",
       "16    14472\n",
       "Name: 이용시간, dtype: int64"
      ]
     },
     "execution_count": 20,
     "metadata": {},
     "output_type": "execute_result"
    }
   ],
   "source": [
    "go_time.value_counts().head(15)"
   ]
  },
  {
   "cell_type": "code",
   "execution_count": 21,
   "metadata": {},
   "outputs": [
    {
     "data": {
      "text/plain": [
       "428802"
      ]
     },
     "execution_count": 21,
     "metadata": {},
     "output_type": "execute_result"
    }
   ],
   "source": [
    "sum(go_time <= 15)"
   ]
  },
  {
   "cell_type": "code",
   "execution_count": 22,
   "metadata": {},
   "outputs": [
    {
     "data": {
      "text/plain": [
       "556302"
      ]
     },
     "execution_count": 22,
     "metadata": {},
     "output_type": "execute_result"
    }
   ],
   "source": [
    "sum(go_time <= 30)"
   ]
  },
  {
   "cell_type": "code",
   "execution_count": 23,
   "metadata": {},
   "outputs": [
    {
     "name": "stdout",
     "output_type": "stream",
     "text": [
      "0.1157570279953611\n"
     ]
    }
   ],
   "source": [
    "print(428802/3704328)"
   ]
  },
  {
   "cell_type": "code",
   "execution_count": 24,
   "metadata": {},
   "outputs": [
    {
     "name": "stdout",
     "output_type": "stream",
     "text": [
      "0.15017622629529567\n"
     ]
    }
   ],
   "source": [
    "print(556302/3704328)"
   ]
  },
  {
   "cell_type": "code",
   "execution_count": 25,
   "metadata": {},
   "outputs": [
    {
     "data": {
      "text/plain": [
       "6     45864\n",
       "5     45225\n",
       "7     44055\n",
       "4     41754\n",
       "8     41482\n",
       "9     39350\n",
       "10    37006\n",
       "11    33937\n",
       "3     32294\n",
       "12    31738\n",
       "13    29411\n",
       "14    27300\n",
       "15    25327\n",
       "16    23515\n",
       "17    21809\n",
       "Name: 이용시간, dtype: int64"
      ]
     },
     "execution_count": 25,
     "metadata": {},
     "output_type": "execute_result"
    }
   ],
   "source": [
    "back_time.value_counts().head(15)"
   ]
  },
  {
   "cell_type": "code",
   "execution_count": 26,
   "metadata": {},
   "outputs": [
    {
     "data": {
      "text/plain": [
       "500515"
      ]
     },
     "execution_count": 26,
     "metadata": {},
     "output_type": "execute_result"
    }
   ],
   "source": [
    "sum(back_time <= 15)"
   ]
  },
  {
   "cell_type": "code",
   "execution_count": 27,
   "metadata": {},
   "outputs": [
    {
     "data": {
      "text/plain": [
       "741542"
      ]
     },
     "execution_count": 27,
     "metadata": {},
     "output_type": "execute_result"
    }
   ],
   "source": [
    "sum(back_time <= 30)"
   ]
  },
  {
   "cell_type": "code",
   "execution_count": 28,
   "metadata": {},
   "outputs": [
    {
     "name": "stdout",
     "output_type": "stream",
     "text": [
      "0.13511627480071958\n"
     ]
    }
   ],
   "source": [
    "print(500515/3704328)"
   ]
  },
  {
   "cell_type": "code",
   "execution_count": 29,
   "metadata": {},
   "outputs": [
    {
     "name": "stdout",
     "output_type": "stream",
     "text": [
      "0.20018259722141235\n"
     ]
    }
   ],
   "source": [
    "print(741542/3704328)"
   ]
  },
  {
   "cell_type": "markdown",
   "metadata": {},
   "source": [
    "### - 출근시간(7~10)에 15분 이하 이용자 11.7%\n",
    "### - 퇴근시간(17~20)에 15분 이하 이용자 13.5%    => 총 25.2%"
   ]
  },
  {
   "cell_type": "markdown",
   "metadata": {},
   "source": [
    "# --------------------------------------------"
   ]
  },
  {
   "cell_type": "markdown",
   "metadata": {},
   "source": [
    "### - 출근시간(7~10)에 30분 이하 이용자 15.0%\n",
    "### - 퇴근시간(17~20)에 30분 이하 이용자 20.0%    => 총 35.0%"
   ]
  },
  {
   "cell_type": "code",
   "execution_count": 30,
   "metadata": {},
   "outputs": [],
   "source": [
    "# 경고메세지 제거\n",
    "import warnings\n",
    "warnings.filterwarnings('ignore')\n",
    "import matplotlib.pyplot as plt\n",
    "from matplotlib import font_manager\n",
    "\n",
    "font_fname = 'c:/windows/fonts/malgun.ttf'\n",
    "font_family = font_manager.FontProperties(fname=font_fname).get_name()\n",
    "plt.rcParams['font.family'] = font_family\n",
    "\n",
    "import pandas as pd\n",
    "import numpy as np\n",
    "import matplotlib.pyplot as plt\n",
    "import seaborn as sns"
   ]
  },
  {
   "cell_type": "code",
   "execution_count": 32,
   "metadata": {},
   "outputs": [],
   "source": [
    "df_time = pd.DataFrame(df['연령대코드'].groupby(df['대여시간']).value_counts())\n",
    "df_time.columns = ['cnt']\n",
    "df_time = df_time.reset_index()"
   ]
  },
  {
   "cell_type": "code",
   "execution_count": 33,
   "metadata": {},
   "outputs": [],
   "source": [
    "df_age = pd.DataFrame(df['연령대코드'].groupby(df['대여시간']).value_counts())\n",
    "df_age.columns = ['cnt']\n",
    "df_age = df_age.reset_index()"
   ]
  },
  {
   "cell_type": "code",
   "execution_count": 34,
   "metadata": {},
   "outputs": [],
   "source": [
    "df_age = pd.pivot_table(df_age, index = '대여시간', columns = '연령대코드', values = 'cnt')\n",
    "df_age = df_age.reset_index()\n",
    "df_age['청년이용률'] = round((df_age['20대']+df_age['30대']+df_age['40대'])/\n",
    "                        (df_age['20대']+df_age['30대']+df_age['40대']+df_age['50대']+df_age['60대']\n",
    "                        +df_age['70대이상']+df_age['~10대']+df_age['기타'])*100, 1)\n",
    "# df_age = df_age.sort_values(by = ['청년이용률'], ascending = False)"
   ]
  },
  {
   "cell_type": "code",
   "execution_count": 35,
   "metadata": {},
   "outputs": [
    {
     "data": {
      "text/html": [
       "<div>\n",
       "<style scoped>\n",
       "    .dataframe tbody tr th:only-of-type {\n",
       "        vertical-align: middle;\n",
       "    }\n",
       "\n",
       "    .dataframe tbody tr th {\n",
       "        vertical-align: top;\n",
       "    }\n",
       "\n",
       "    .dataframe thead th {\n",
       "        text-align: right;\n",
       "    }\n",
       "</style>\n",
       "<table border=\"1\" class=\"dataframe\">\n",
       "  <thead>\n",
       "    <tr style=\"text-align: right;\">\n",
       "      <th>연령대코드</th>\n",
       "      <th>대여시간</th>\n",
       "      <th>20대</th>\n",
       "      <th>30대</th>\n",
       "      <th>40대</th>\n",
       "      <th>50대</th>\n",
       "      <th>60대</th>\n",
       "      <th>70대이상</th>\n",
       "      <th>~10대</th>\n",
       "      <th>기타</th>\n",
       "      <th>청년이용률</th>\n",
       "    </tr>\n",
       "  </thead>\n",
       "  <tbody>\n",
       "    <tr>\n",
       "      <th>0</th>\n",
       "      <td>0</td>\n",
       "      <td>43777</td>\n",
       "      <td>18953</td>\n",
       "      <td>9057</td>\n",
       "      <td>7235</td>\n",
       "      <td>2624</td>\n",
       "      <td>266</td>\n",
       "      <td>9306</td>\n",
       "      <td>11125</td>\n",
       "      <td>70.1</td>\n",
       "    </tr>\n",
       "    <tr>\n",
       "      <th>1</th>\n",
       "      <td>1</td>\n",
       "      <td>27970</td>\n",
       "      <td>12004</td>\n",
       "      <td>6463</td>\n",
       "      <td>6773</td>\n",
       "      <td>2818</td>\n",
       "      <td>275</td>\n",
       "      <td>5685</td>\n",
       "      <td>7621</td>\n",
       "      <td>66.7</td>\n",
       "    </tr>\n",
       "    <tr>\n",
       "      <th>2</th>\n",
       "      <td>2</td>\n",
       "      <td>18312</td>\n",
       "      <td>7258</td>\n",
       "      <td>4196</td>\n",
       "      <td>5134</td>\n",
       "      <td>2311</td>\n",
       "      <td>198</td>\n",
       "      <td>3316</td>\n",
       "      <td>4985</td>\n",
       "      <td>65.1</td>\n",
       "    </tr>\n",
       "    <tr>\n",
       "      <th>3</th>\n",
       "      <td>3</td>\n",
       "      <td>10592</td>\n",
       "      <td>4320</td>\n",
       "      <td>3024</td>\n",
       "      <td>3864</td>\n",
       "      <td>1783</td>\n",
       "      <td>150</td>\n",
       "      <td>1722</td>\n",
       "      <td>3122</td>\n",
       "      <td>62.8</td>\n",
       "    </tr>\n",
       "    <tr>\n",
       "      <th>4</th>\n",
       "      <td>4</td>\n",
       "      <td>7633</td>\n",
       "      <td>3681</td>\n",
       "      <td>2917</td>\n",
       "      <td>3384</td>\n",
       "      <td>1551</td>\n",
       "      <td>125</td>\n",
       "      <td>1185</td>\n",
       "      <td>2487</td>\n",
       "      <td>62.0</td>\n",
       "    </tr>\n",
       "    <tr>\n",
       "      <th>5</th>\n",
       "      <td>5</td>\n",
       "      <td>10173</td>\n",
       "      <td>7595</td>\n",
       "      <td>5980</td>\n",
       "      <td>5574</td>\n",
       "      <td>2571</td>\n",
       "      <td>338</td>\n",
       "      <td>1013</td>\n",
       "      <td>3578</td>\n",
       "      <td>64.5</td>\n",
       "    </tr>\n",
       "    <tr>\n",
       "      <th>6</th>\n",
       "      <td>6</td>\n",
       "      <td>18317</td>\n",
       "      <td>17420</td>\n",
       "      <td>14161</td>\n",
       "      <td>10651</td>\n",
       "      <td>3688</td>\n",
       "      <td>529</td>\n",
       "      <td>2056</td>\n",
       "      <td>6580</td>\n",
       "      <td>68.0</td>\n",
       "    </tr>\n",
       "    <tr>\n",
       "      <th>7</th>\n",
       "      <td>7</td>\n",
       "      <td>40451</td>\n",
       "      <td>39090</td>\n",
       "      <td>29927</td>\n",
       "      <td>20157</td>\n",
       "      <td>5410</td>\n",
       "      <td>643</td>\n",
       "      <td>15024</td>\n",
       "      <td>16760</td>\n",
       "      <td>65.4</td>\n",
       "    </tr>\n",
       "    <tr>\n",
       "      <th>8</th>\n",
       "      <td>8</td>\n",
       "      <td>66723</td>\n",
       "      <td>61919</td>\n",
       "      <td>40945</td>\n",
       "      <td>23112</td>\n",
       "      <td>5684</td>\n",
       "      <td>914</td>\n",
       "      <td>6340</td>\n",
       "      <td>21026</td>\n",
       "      <td>74.8</td>\n",
       "    </tr>\n",
       "    <tr>\n",
       "      <th>9</th>\n",
       "      <td>9</td>\n",
       "      <td>48344</td>\n",
       "      <td>37692</td>\n",
       "      <td>23580</td>\n",
       "      <td>15291</td>\n",
       "      <td>4915</td>\n",
       "      <td>806</td>\n",
       "      <td>4515</td>\n",
       "      <td>14018</td>\n",
       "      <td>73.5</td>\n",
       "    </tr>\n",
       "    <tr>\n",
       "      <th>10</th>\n",
       "      <td>10</td>\n",
       "      <td>42233</td>\n",
       "      <td>30044</td>\n",
       "      <td>19737</td>\n",
       "      <td>13254</td>\n",
       "      <td>4895</td>\n",
       "      <td>862</td>\n",
       "      <td>4843</td>\n",
       "      <td>11941</td>\n",
       "      <td>72.0</td>\n",
       "    </tr>\n",
       "    <tr>\n",
       "      <th>11</th>\n",
       "      <td>11</td>\n",
       "      <td>48595</td>\n",
       "      <td>35612</td>\n",
       "      <td>22912</td>\n",
       "      <td>14227</td>\n",
       "      <td>4943</td>\n",
       "      <td>851</td>\n",
       "      <td>5747</td>\n",
       "      <td>13525</td>\n",
       "      <td>73.2</td>\n",
       "    </tr>\n",
       "    <tr>\n",
       "      <th>12</th>\n",
       "      <td>12</td>\n",
       "      <td>53674</td>\n",
       "      <td>38095</td>\n",
       "      <td>23735</td>\n",
       "      <td>15038</td>\n",
       "      <td>4785</td>\n",
       "      <td>815</td>\n",
       "      <td>7013</td>\n",
       "      <td>15220</td>\n",
       "      <td>72.9</td>\n",
       "    </tr>\n",
       "    <tr>\n",
       "      <th>13</th>\n",
       "      <td>13</td>\n",
       "      <td>54069</td>\n",
       "      <td>35852</td>\n",
       "      <td>22518</td>\n",
       "      <td>14767</td>\n",
       "      <td>4873</td>\n",
       "      <td>719</td>\n",
       "      <td>7745</td>\n",
       "      <td>15014</td>\n",
       "      <td>72.3</td>\n",
       "    </tr>\n",
       "    <tr>\n",
       "      <th>14</th>\n",
       "      <td>14</td>\n",
       "      <td>53653</td>\n",
       "      <td>34413</td>\n",
       "      <td>22130</td>\n",
       "      <td>14024</td>\n",
       "      <td>4833</td>\n",
       "      <td>827</td>\n",
       "      <td>7969</td>\n",
       "      <td>15514</td>\n",
       "      <td>71.9</td>\n",
       "    </tr>\n",
       "    <tr>\n",
       "      <th>15</th>\n",
       "      <td>15</td>\n",
       "      <td>61460</td>\n",
       "      <td>37940</td>\n",
       "      <td>25248</td>\n",
       "      <td>16603</td>\n",
       "      <td>5838</td>\n",
       "      <td>956</td>\n",
       "      <td>12045</td>\n",
       "      <td>18912</td>\n",
       "      <td>69.6</td>\n",
       "    </tr>\n",
       "    <tr>\n",
       "      <th>16</th>\n",
       "      <td>16</td>\n",
       "      <td>70677</td>\n",
       "      <td>46108</td>\n",
       "      <td>30812</td>\n",
       "      <td>20442</td>\n",
       "      <td>6874</td>\n",
       "      <td>1107</td>\n",
       "      <td>20053</td>\n",
       "      <td>24706</td>\n",
       "      <td>66.9</td>\n",
       "    </tr>\n",
       "    <tr>\n",
       "      <th>17</th>\n",
       "      <td>17</td>\n",
       "      <td>89095</td>\n",
       "      <td>64780</td>\n",
       "      <td>42132</td>\n",
       "      <td>26231</td>\n",
       "      <td>7854</td>\n",
       "      <td>1076</td>\n",
       "      <td>18276</td>\n",
       "      <td>28888</td>\n",
       "      <td>70.4</td>\n",
       "    </tr>\n",
       "    <tr>\n",
       "      <th>18</th>\n",
       "      <td>18</td>\n",
       "      <td>107778</td>\n",
       "      <td>85456</td>\n",
       "      <td>52309</td>\n",
       "      <td>30484</td>\n",
       "      <td>7355</td>\n",
       "      <td>944</td>\n",
       "      <td>16860</td>\n",
       "      <td>34669</td>\n",
       "      <td>73.1</td>\n",
       "    </tr>\n",
       "    <tr>\n",
       "      <th>19</th>\n",
       "      <td>19</td>\n",
       "      <td>89983</td>\n",
       "      <td>67592</td>\n",
       "      <td>37175</td>\n",
       "      <td>22015</td>\n",
       "      <td>6027</td>\n",
       "      <td>798</td>\n",
       "      <td>14953</td>\n",
       "      <td>27242</td>\n",
       "      <td>73.3</td>\n",
       "    </tr>\n",
       "    <tr>\n",
       "      <th>20</th>\n",
       "      <td>20</td>\n",
       "      <td>83039</td>\n",
       "      <td>57871</td>\n",
       "      <td>30277</td>\n",
       "      <td>17530</td>\n",
       "      <td>4336</td>\n",
       "      <td>549</td>\n",
       "      <td>14653</td>\n",
       "      <td>23458</td>\n",
       "      <td>73.9</td>\n",
       "    </tr>\n",
       "    <tr>\n",
       "      <th>21</th>\n",
       "      <td>21</td>\n",
       "      <td>81772</td>\n",
       "      <td>51912</td>\n",
       "      <td>25178</td>\n",
       "      <td>14956</td>\n",
       "      <td>3376</td>\n",
       "      <td>410</td>\n",
       "      <td>16226</td>\n",
       "      <td>22931</td>\n",
       "      <td>73.3</td>\n",
       "    </tr>\n",
       "    <tr>\n",
       "      <th>22</th>\n",
       "      <td>22</td>\n",
       "      <td>73734</td>\n",
       "      <td>40439</td>\n",
       "      <td>18129</td>\n",
       "      <td>10833</td>\n",
       "      <td>2585</td>\n",
       "      <td>326</td>\n",
       "      <td>18974</td>\n",
       "      <td>19773</td>\n",
       "      <td>71.6</td>\n",
       "    </tr>\n",
       "    <tr>\n",
       "      <th>23</th>\n",
       "      <td>23</td>\n",
       "      <td>55068</td>\n",
       "      <td>26454</td>\n",
       "      <td>11357</td>\n",
       "      <td>7321</td>\n",
       "      <td>1991</td>\n",
       "      <td>236</td>\n",
       "      <td>11650</td>\n",
       "      <td>13003</td>\n",
       "      <td>73.1</td>\n",
       "    </tr>\n",
       "  </tbody>\n",
       "</table>\n",
       "</div>"
      ],
      "text/plain": [
       "연령대코드  대여시간     20대    30대    40대    50대   60대  70대이상   ~10대     기타  청년이용률\n",
       "0         0   43777  18953   9057   7235  2624    266   9306  11125   70.1\n",
       "1         1   27970  12004   6463   6773  2818    275   5685   7621   66.7\n",
       "2         2   18312   7258   4196   5134  2311    198   3316   4985   65.1\n",
       "3         3   10592   4320   3024   3864  1783    150   1722   3122   62.8\n",
       "4         4    7633   3681   2917   3384  1551    125   1185   2487   62.0\n",
       "5         5   10173   7595   5980   5574  2571    338   1013   3578   64.5\n",
       "6         6   18317  17420  14161  10651  3688    529   2056   6580   68.0\n",
       "7         7   40451  39090  29927  20157  5410    643  15024  16760   65.4\n",
       "8         8   66723  61919  40945  23112  5684    914   6340  21026   74.8\n",
       "9         9   48344  37692  23580  15291  4915    806   4515  14018   73.5\n",
       "10       10   42233  30044  19737  13254  4895    862   4843  11941   72.0\n",
       "11       11   48595  35612  22912  14227  4943    851   5747  13525   73.2\n",
       "12       12   53674  38095  23735  15038  4785    815   7013  15220   72.9\n",
       "13       13   54069  35852  22518  14767  4873    719   7745  15014   72.3\n",
       "14       14   53653  34413  22130  14024  4833    827   7969  15514   71.9\n",
       "15       15   61460  37940  25248  16603  5838    956  12045  18912   69.6\n",
       "16       16   70677  46108  30812  20442  6874   1107  20053  24706   66.9\n",
       "17       17   89095  64780  42132  26231  7854   1076  18276  28888   70.4\n",
       "18       18  107778  85456  52309  30484  7355    944  16860  34669   73.1\n",
       "19       19   89983  67592  37175  22015  6027    798  14953  27242   73.3\n",
       "20       20   83039  57871  30277  17530  4336    549  14653  23458   73.9\n",
       "21       21   81772  51912  25178  14956  3376    410  16226  22931   73.3\n",
       "22       22   73734  40439  18129  10833  2585    326  18974  19773   71.6\n",
       "23       23   55068  26454  11357   7321  1991    236  11650  13003   73.1"
      ]
     },
     "execution_count": 35,
     "metadata": {},
     "output_type": "execute_result"
    }
   ],
   "source": [
    "df_age"
   ]
  },
  {
   "cell_type": "code",
   "execution_count": null,
   "metadata": {},
   "outputs": [],
   "source": []
  },
  {
   "cell_type": "code",
   "execution_count": null,
   "metadata": {},
   "outputs": [],
   "source": []
  },
  {
   "cell_type": "code",
   "execution_count": null,
   "metadata": {},
   "outputs": [],
   "source": []
  },
  {
   "cell_type": "code",
   "execution_count": null,
   "metadata": {},
   "outputs": [],
   "source": []
  },
  {
   "cell_type": "code",
   "execution_count": null,
   "metadata": {},
   "outputs": [],
   "source": []
  },
  {
   "cell_type": "code",
   "execution_count": null,
   "metadata": {},
   "outputs": [],
   "source": []
  }
 ],
 "metadata": {
  "kernelspec": {
   "display_name": "Python 3",
   "language": "python",
   "name": "python3"
  },
  "language_info": {
   "codemirror_mode": {
    "name": "ipython",
    "version": 3
   },
   "file_extension": ".py",
   "mimetype": "text/x-python",
   "name": "python",
   "nbconvert_exporter": "python",
   "pygments_lexer": "ipython3",
   "version": "3.6.5"
  }
 },
 "nbformat": 4,
 "nbformat_minor": 5
}
